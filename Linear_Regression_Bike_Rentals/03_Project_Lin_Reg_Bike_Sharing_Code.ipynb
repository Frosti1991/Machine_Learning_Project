{
 "cells": [
  {
   "cell_type": "markdown",
   "metadata": {},
   "source": [
    "# ML - Guideline"
   ]
  },
  {
   "cell_type": "markdown",
   "metadata": {},
   "source": [
    "**Steps of a ML development pipeline**\n",
    "\n",
    "1. Collect data\n",
    "2. Split: train, validation (train can also be enough when using CV), test\n",
    "3. EDA (...) exploratory data analysis: we look at features, their distributions, cleaning the data, filling missing values, lloking at correlation between features and output and in between features ...etc.\n",
    "4. We fit a very straightforward simple model as our baseline (e.g. dummy classifier)\n",
    "5. use train and validation data (or just apply CV to train) to iteratively improve my model/find best model (feature engineering, hyperparameter tuning, ...)\n",
    "6. After steps 1-4, we end up with Best Model (best features to use, best hyperparameter values)\n",
    "7. apply best model to test data to estimate how the model will perform on new data (using test score, should not vary too much from the best validation score I get in step 4-5)\n",
    "8. By now, you know the transformations, encoding,...etc steps you need. Retrain best model on **all the data you have!!** (train+validation+test), and then it is ready for deployment"
   ]
  },
  {
   "cell_type": "markdown",
   "metadata": {},
   "source": [
    "# Load libraries and data"
   ]
  },
  {
   "cell_type": "code",
   "execution_count": null,
   "metadata": {},
   "outputs": [],
   "source": [
    "#import libraries\n",
    "import pandas as pd\n",
    "import matplotlib.pyplot as plt\n",
    "%matplotlib inline \n",
    "## == plt.show() happens automatically inside this notebook\n",
    "from sklearn.linear_model import LinearRegression\n",
    "from sklearn.model_selection import train_test_split\n",
    "from sklearn.impute import SimpleImputer\n",
    "from sklearn import metrics\n",
    "from sklearn.ensemble import RandomForestClassifier\n",
    "from sklearn.metrics import r2_score\n",
    "from sklearn.model_selection import cross_val_score\n",
    "from sklearn.model_selection import GridSearchCV\n",
    "from sklearn.model_selection import train_test_split\n",
    "from sklearn.compose import ColumnTransformer\n",
    "from sklearn.preprocessing import FunctionTransformer\n",
    "from sklearn.pipeline import Pipeline, make_pipeline\n",
    "from sklearn.preprocessing import OneHotEncoder\n",
    "from sklearn.impute import SimpleImputer\n",
    "from sklearn.preprocessing import StandardScaler,MinMaxScaler\n",
    "from sklearn.metrics import confusion_matrix, classification_report,accuracy_score\n",
    "from sklearn.model_selection import GridSearchCV\n",
    "from sklearn.metrics import mean_squared_log_error\n",
    "from sklearn.metrics import mean_squared_error\n",
    "from sklearn.ensemble import RandomForestRegressor\n",
    "\n",
    "from friendly.jupyter import *\n",
    "\n",
    "import seaborn as sns\n",
    "import os\n",
    "import numpy as np"
   ]
  },
  {
   "cell_type": "code",
   "execution_count": null,
   "metadata": {},
   "outputs": [],
   "source": [
    "sklearn.__version__"
   ]
  },
  {
   "cell_type": "code",
   "execution_count": null,
   "metadata": {},
   "outputs": [],
   "source": [
    "path=os.getcwd()\n",
    "path"
   ]
  },
  {
   "cell_type": "markdown",
   "metadata": {},
   "source": [
    "## Data Overview"
   ]
  },
  {
   "cell_type": "code",
   "execution_count": null,
   "metadata": {},
   "outputs": [],
   "source": [
    "df_bike= pd.read_csv(path+'/train.csv', sep=\",\",parse_dates=True, index_col=0) #Attention: this data file contains ALL the data, not just the train set!\n",
    "df_test= pd.read_csv(path+'/test.csv', sep=\",\",parse_dates=True, index_col=0) #Attention: this data file contains ALL the data, not just the train set!\n",
    "\n",
    "df_test.head() #casual + registered = count --> exclude from dataset\n",
    "\n"
   ]
  },
  {
   "cell_type": "code",
   "execution_count": null,
   "metadata": {},
   "outputs": [],
   "source": [
    "#Check shape of test and train\n",
    "print(df_bike.shape, df_test.shape)"
   ]
  },
  {
   "cell_type": "code",
   "execution_count": null,
   "metadata": {},
   "outputs": [],
   "source": [
    "df_test.index"
   ]
  },
  {
   "cell_type": "code",
   "execution_count": null,
   "metadata": {},
   "outputs": [],
   "source": [
    "df_bike.info()"
   ]
  },
  {
   "cell_type": "code",
   "execution_count": null,
   "metadata": {},
   "outputs": [],
   "source": [
    "df_test.info()"
   ]
  },
  {
   "cell_type": "markdown",
   "metadata": {},
   "source": [
    "- datetime - hourly date + timestamp  --> just the first 19 days per month (at leasts 2 full weeks to get a possible rental week shape per month)\n",
    "- season -  1 = spring, 2 = summer, 3 = fall, 4 = winter \n",
    "- holiday - whether the day is considered a holiday\n",
    "- workingday - whether the day is neither a weekend nor holiday\n",
    "- weather - 1: Clear, Few clouds, Partly cloudy, Partly cloudy\n",
    "- 2: Mist + Cloudy, Mist + Broken clouds, Mist + Few clouds, Mist (Mist=Nebel,Dunst)\n",
    "- 3: Light Snow, Light Rain + Thunderstorm + Scattered clouds, Light Rain + Scattered clouds\n",
    "- 4: Heavy Rain + Ice Pallets + Thunderstorm + Mist, Snow + Fog \n",
    "- temp - temperature in Celsius\n",
    "- atemp - \"feels like\" temperature in Celsius\n",
    "- humidity - relative humidity\n",
    "- windspeed - wind speed\n",
    "- casual - number of non-registered user rentals initiated\n",
    "- registered - number of registered user rentals initiated\n",
    "- count - number of total rentals --> sum of casual+registered"
   ]
  },
  {
   "cell_type": "code",
   "execution_count": null,
   "metadata": {},
   "outputs": [],
   "source": [
    "df_bike.isna().sum() #Perfect, no adapting of missing values necessary"
   ]
  },
  {
   "cell_type": "markdown",
   "metadata": {},
   "source": [
    "## append dataframe with year/month/day/hour "
   ]
  },
  {
   "cell_type": "code",
   "execution_count": null,
   "metadata": {},
   "outputs": [],
   "source": [
    "def append(df):\n",
    "    df['hour']=df.index.hour\n",
    "    df['day']=df.index.weekday\n",
    "    df['month']=df.index.month\n",
    "    df['year']=df.index.year\n",
    "    return df\n",
    "\n",
    "df_list=[df_bike,df_test]\n",
    "for i in df_list:\n",
    "    i=append(i)\n",
    "\n",
    "df_bike\n",
    "df_test"
   ]
  },
  {
   "cell_type": "markdown",
   "metadata": {},
   "source": [
    "## drop already unnecessary columns"
   ]
  },
  {
   "cell_type": "code",
   "execution_count": null,
   "metadata": {},
   "outputs": [],
   "source": [
    "def drop(df,columns):\n",
    "    df.drop(columns,axis=1,inplace=True)\n",
    "    return df\n",
    "\n",
    "#df_bike\n",
    "drop_columns=['casual','registered']\n",
    "df_bike=drop(df_bike,drop_columns)\n",
    "#reset_index\n",
    "#df_bike=df_bike.reset_index(drop=True)\n",
    "#df_test=df_test.reset_index(drop=True)\n",
    "df_bike.head()\n",
    "df_test.head()"
   ]
  },
  {
   "cell_type": "code",
   "execution_count": null,
   "metadata": {},
   "outputs": [],
   "source": [
    "#Check shape\n",
    "df_bike.shape, df_test.shape #--> count still included in df_bike for EDA"
   ]
  },
  {
   "cell_type": "markdown",
   "metadata": {},
   "source": [
    "# EDA"
   ]
  },
  {
   "cell_type": "markdown",
   "metadata": {},
   "source": [
    "## statistical overview"
   ]
  },
  {
   "cell_type": "code",
   "execution_count": null,
   "metadata": {},
   "outputs": [],
   "source": [
    "plt.figure(figsize=(18,10))\n",
    "\n",
    "sns.heatmap(df_bike.corr(),cbar=True,annot=True,cmap=\"Blues\");\n",
    "#atemp and temp are high correlated --> nearly the same... one is not necessary?\n",
    "#count is correlated temp/atemp and hour"
   ]
  },
  {
   "cell_type": "code",
   "execution_count": null,
   "metadata": {},
   "outputs": [],
   "source": [
    "#development of rented bikes\n",
    "df_bike.groupby(['year','month'])[['count']].sum().plot.bar(subplots=True);"
   ]
  },
  {
   "cell_type": "markdown",
   "metadata": {},
   "source": [
    "## season, holiday, workingday"
   ]
  },
  {
   "cell_type": "code",
   "execution_count": null,
   "metadata": {},
   "outputs": [],
   "source": [
    "#compare \n",
    "fig,ax=plt.subplots(1,3)\n",
    "\n",
    "sns.barplot(data=df_bike,x=df_bike['season'].unique(),y=df_bike.groupby(['season'])['count'].sum(),ax=ax[0]).set(title='Season Sum')\n",
    "sns.barplot(x=df_bike['holiday'].unique(),y=df_bike.groupby(['holiday'])['count'].mean(),ax=ax[1]).set(title='Holiday mean')\n",
    "sns.barplot(x=df_bike['workingday'].unique(),y=df_bike.groupby(['workingday'])['count'].mean(),ax=ax[2]).set(title='Workingday mean');\n",
    "#Season has influence, but not that big difference in rental consumption concering to holiday/working day\n",
    "\n"
   ]
  },
  {
   "cell_type": "markdown",
   "metadata": {},
   "source": [
    "## Weather, Humidity, Wind and Temperature"
   ]
  },
  {
   "cell_type": "code",
   "execution_count": null,
   "metadata": {},
   "outputs": [],
   "source": [
    "df_bike[['weather','temp','atemp','windspeed','humidity']].describe()"
   ]
  },
  {
   "cell_type": "code",
   "execution_count": null,
   "metadata": {},
   "outputs": [],
   "source": [
    "fig,ax=plt.subplots(1,4)\n",
    "plt.figure(figsize=(60,60))\n",
    "sns.histplot(data=df_bike['weather'],ax=ax[0]);\n",
    "sns.histplot(data=df_bike['atemp'],ax=ax[1],discrete=True)\n",
    "sns.histplot(data=df_bike['temp'],ax=ax[1],discrete=True)\n",
    "sns.histplot(data=df_bike['windspeed'],ax=ax[2],discrete=True)\n",
    "sns.histplot(data=df_bike['humidity'],ax=ax[3],discrete=True);"
   ]
  },
  {
   "cell_type": "code",
   "execution_count": null,
   "metadata": {},
   "outputs": [],
   "source": [
    "#weather\n",
    "df_bike.groupby(['weather'])[['count']].mean().plot.bar(subplots=True);\n",
    "#high influence --> the better the wetter the higher the rentals"
   ]
  },
  {
   "cell_type": "code",
   "execution_count": null,
   "metadata": {},
   "outputs": [],
   "source": [
    "#windspeed\n",
    "df_bike['wind_bin']=pd.cut(df_bike['windspeed'],[-1,10,20,30,40,50,60])\n",
    "df_bike.groupby(['wind_bin'])[['count']].mean().plot.bar(subplots=True);\n",
    "#average rentals are not that much influenced by the windspeed"
   ]
  },
  {
   "cell_type": "code",
   "execution_count": null,
   "metadata": {},
   "outputs": [],
   "source": [
    "df_bike['Hum_bin']=pd.cut(df_bike['humidity'],[0,20,40,60,80,100])\n",
    "df_bike\n",
    "df_bike.groupby(['Hum_bin'])[['count']].mean().plot.bar();\n",
    "#average rentals decrease if it's getting pretty wet. "
   ]
  },
  {
   "cell_type": "code",
   "execution_count": null,
   "metadata": {},
   "outputs": [],
   "source": [
    "#temp\n",
    "df_bike['temp_bin']=pd.cut(df_bike['temp'],[-5,0,10,20,30,40,45])\n",
    "df_bike\n",
    "df_bike.groupby(['temp_bin'])[['count']].mean().plot.bar();\n",
    "#average rentals increase if it's getting pretty wet. "
   ]
  },
  {
   "cell_type": "code",
   "execution_count": null,
   "metadata": {},
   "outputs": [],
   "source": [
    "#compare temp and atemp with each other\n",
    "#fig,ax=plt.subplots(figsize=(20,10))\n",
    "#sns.lineplot(data=df_bike[['atemp','temp']],ax=ax);\n",
    "df_bike[['temp','atemp']].plot.line();\n",
    "#---> both properties have the same influence on rental numbers --> get rid off on of them"
   ]
  },
  {
   "cell_type": "markdown",
   "metadata": {},
   "source": [
    "## hour, day, month"
   ]
  },
  {
   "cell_type": "code",
   "execution_count": null,
   "metadata": {},
   "outputs": [],
   "source": [
    "#hour\n",
    "df_bike.groupby(['hour'])[['count']].mean().plot.bar();\n",
    "#huge influence in time of the day"
   ]
  },
  {
   "cell_type": "code",
   "execution_count": null,
   "metadata": {},
   "outputs": [],
   "source": [
    "#day\n",
    "df_bike.groupby(['day'])[['count']].mean().plot.bar(subplots=True);\n",
    "#day seems to be not that much influence?!"
   ]
  },
  {
   "cell_type": "code",
   "execution_count": null,
   "metadata": {},
   "outputs": [],
   "source": [
    "#month\n",
    "df_bike.groupby(['month'])[['count']].mean().plot.bar(subplots=True);\n",
    "#the warmer the more"
   ]
  },
  {
   "cell_type": "markdown",
   "metadata": {
    "heading_collapsed": true
   },
   "source": [
    "## conclusion EDA"
   ]
  },
  {
   "cell_type": "markdown",
   "metadata": {
    "hidden": true
   },
   "source": [
    "- One Hot Encoding:\n",
    " - season, weather, year, month, day, hour --> categorical values\n",
    "- Scaling:\n",
    " - windspeed, humidity, temp\n",
    "- Binning after Scaling:\n",
    " - windspeed, humidity, temp\n",
    "- drop datetime,atempd, \n",
    "    -maybe day and windspeed later"
   ]
  },
  {
   "cell_type": "markdown",
   "metadata": {
    "heading_collapsed": true
   },
   "source": [
    "## Splitting "
   ]
  },
  {
   "cell_type": "code",
   "execution_count": null,
   "metadata": {
    "hidden": true
   },
   "outputs": [],
   "source": [
    "# easy way to separate the whole dataframe into Feature-Set(X) and Target-Set (Y) (Y is a Series)\n",
    "X=df_bike.drop(['atemp','wind_bin','Hum_bin','temp_bin','count'],axis=1)\n",
    "Y=df_bike[['count']]\n",
    "X_test=df_test.drop(['atemp'],axis=1)"
   ]
  },
  {
   "cell_type": "code",
   "execution_count": null,
   "metadata": {
    "hidden": true
   },
   "outputs": [],
   "source": [
    "#Split into Validate and Train Data Set\n",
    "X_train, X_valid, y_train, y_valid = train_test_split(X,Y, test_size=0.2, random_state=101) #test_size generally around 20-25%"
   ]
  },
  {
   "cell_type": "code",
   "execution_count": null,
   "metadata": {
    "hidden": true
   },
   "outputs": [],
   "source": [
    "print(X_train.shape, X_valid.shape,y_train.shape, y_valid.shape, X_test.shape)"
   ]
  },
  {
   "cell_type": "code",
   "execution_count": null,
   "metadata": {
    "hidden": true
   },
   "outputs": [],
   "source": [
    "X_train"
   ]
  },
  {
   "cell_type": "markdown",
   "metadata": {},
   "source": [
    "# BaseLine Model"
   ]
  },
  {
   "cell_type": "markdown",
   "metadata": {},
   "source": [
    "Steps:\n",
    "- Create by hand \n",
    "- Create with a pipeline\n",
    "- little effort\n",
    "- just do Feature Engineering for Season (Encoding), drop aTemp\n",
    "- compare RMSE by hand with RMSE by pipeline, needs to be the same\n",
    "--> receive a Base-Score to have something to compare with after setting up the real model"
   ]
  },
  {
   "cell_type": "markdown",
   "metadata": {},
   "source": [
    "## by hand"
   ]
  },
  {
   "cell_type": "markdown",
   "metadata": {
    "heading_collapsed": true
   },
   "source": [
    "### as LR-Model"
   ]
  },
  {
   "cell_type": "code",
   "execution_count": null,
   "metadata": {
    "hidden": true
   },
   "outputs": [],
   "source": [
    "#just encode Season as Feature Engineering\n",
    "#function\n",
    "def encoding(df,columns):\n",
    "    #print(columns)\n",
    "    df=pd.DataFrame(df).copy()\n",
    "    df_dummy=pd.get_dummies(data=df[columns],columns=columns,drop_first=True,dummy_na=False,prefix=columns)\n",
    "    df_new=pd.concat([df,df_dummy],axis=1)\n",
    "    df_new.drop(columns,axis=1,inplace=True)\n",
    "    return df_new\n",
    "\n",
    "ohe=['day','season']      \n",
    "X_train_ohe=encoding(X_train,ohe)\n",
    "X_valid_ohe=encoding(X_valid,ohe) \n",
    "X_test_ohe=encoding(X_test,ohe) "
   ]
  },
  {
   "cell_type": "code",
   "execution_count": null,
   "metadata": {
    "hidden": true
   },
   "outputs": [],
   "source": [
    "X_train_ohe.shape, X_valid_ohe.shape, X_test_ohe.shape"
   ]
  },
  {
   "cell_type": "code",
   "execution_count": null,
   "metadata": {
    "hidden": true
   },
   "outputs": [],
   "source": [
    "#instanciate model\n",
    "m_ohe = RandomForestRegressor()"
   ]
  },
  {
   "cell_type": "code",
   "execution_count": null,
   "metadata": {
    "hidden": true
   },
   "outputs": [],
   "source": [
    "#fit the model\n",
    "m_ohe.fit(X_train_ohe,y_train)"
   ]
  },
  {
   "cell_type": "code",
   "execution_count": null,
   "metadata": {
    "hidden": true
   },
   "outputs": [],
   "source": [
    "y_pred_ohe=m_ohe.predict(X_valid_ohe)\n",
    "y_pred_ohe[y_pred_ohe<0]=0"
   ]
  },
  {
   "cell_type": "code",
   "execution_count": null,
   "metadata": {
    "hidden": true
   },
   "outputs": [],
   "source": [
    "#get a Root Mean Squard Log Error (RMSLE)-score\n",
    "rmsle_b_ohe=np.sqrt(mean_squared_log_error(y_valid,y_pred_ohe))\n",
    "print(f'baseline model score: {round(rmsle_b_ohe,6)}')"
   ]
  },
  {
   "cell_type": "markdown",
   "metadata": {
    "heading_collapsed": true
   },
   "source": [
    "### as a Pipeline"
   ]
  },
  {
   "cell_type": "code",
   "execution_count": null,
   "metadata": {
    "hidden": true
   },
   "outputs": [],
   "source": [
    "#Create a preprocessor ColumnTransformer (with just 1 task/step)\n",
    "categorical_features=['day','season']\n",
    "\n",
    "categorical_steps = [('onehot', OneHotEncoder(handle_unknown='ignore'))]\n",
    "# Create sub-pipeline as part of preprocessor\n",
    "categorical_transformer = Pipeline(categorical_steps)\n",
    "preprocessor = ColumnTransformer(transformers=\n",
    "                                 [('categoric', categorical_transformer, categorical_features)])\n",
    "preprocessor"
   ]
  },
  {
   "cell_type": "code",
   "execution_count": null,
   "metadata": {
    "hidden": true
   },
   "outputs": [],
   "source": [
    "final_steps = [('preprocessor', preprocessor),\n",
    "     ('RanFo', RandomForestRegressor())] # instanciation of the model class"
   ]
  },
  {
   "cell_type": "code",
   "execution_count": null,
   "metadata": {
    "hidden": true
   },
   "outputs": [],
   "source": [
    "pipeline = Pipeline(final_steps)"
   ]
  },
  {
   "cell_type": "code",
   "execution_count": null,
   "metadata": {
    "hidden": true
   },
   "outputs": [],
   "source": [
    "#have a look at the pipeline steps\n",
    "pipeline.named_steps"
   ]
  },
  {
   "cell_type": "code",
   "execution_count": null,
   "metadata": {
    "hidden": true
   },
   "outputs": [],
   "source": [
    "#use the pipeline\n",
    "pipeline.fit(X_train,y_train)"
   ]
  },
  {
   "cell_type": "code",
   "execution_count": null,
   "metadata": {
    "hidden": true
   },
   "outputs": [],
   "source": [
    "y_pred_pipe=pipeline.predict(X_valid)"
   ]
  },
  {
   "cell_type": "code",
   "execution_count": null,
   "metadata": {
    "hidden": true
   },
   "outputs": [],
   "source": [
    "X_valid.shape, X_train.shape"
   ]
  },
  {
   "cell_type": "code",
   "execution_count": null,
   "metadata": {
    "hidden": true
   },
   "outputs": [],
   "source": [
    "#get a Root Mean Squard Error (RMSLE)-score\n",
    "rmsle_b_pipe=np.sqrt(mean_squared_log_error(y_valid,y_pred_pipe))\n",
    "print(f'baseline model score: {round(rmsle_b_pipe,6)}')"
   ]
  },
  {
   "cell_type": "markdown",
   "metadata": {},
   "source": [
    "### as mean out of \"month-day\""
   ]
  },
  {
   "cell_type": "code",
   "execution_count": null,
   "metadata": {},
   "outputs": [],
   "source": [
    "X_valid"
   ]
  },
  {
   "cell_type": "code",
   "execution_count": null,
   "metadata": {},
   "outputs": [],
   "source": [
    "y_day_month_mean=df_bike.groupby(['month','day'])[['count']].mean()\n",
    "y_day_month_mean"
   ]
  },
  {
   "cell_type": "code",
   "execution_count": null,
   "metadata": {},
   "outputs": [],
   "source": [
    "y_day_month_mean.info()\n",
    "#type(y_day_month_mean.loc[1,3])"
   ]
  },
  {
   "cell_type": "code",
   "execution_count": null,
   "metadata": {},
   "outputs": [],
   "source": [
    "#y_day_month_mean #gives us the mean per day (0-6) to the corresponding month --> 12*7=84rows\n",
    "\n",
    "#adapt these as an baseline proposal to y_b_pred\n",
    "\n",
    "def baseline_mean(df_day_month_mean,col_day,col_month,i):\n",
    "    #tuple unpacking\n",
    "    a,b=i\n",
    "    #Month-Value\n",
    "    month=b[col_month]\n",
    "    #Day-Value\n",
    "    day=b[col_day]\n",
    "    #Map mean for day/month to y_b_pred, take first value of series (multi-index)\n",
    "    pred_value=df_day_month_mean.loc[month,day][0]\n",
    "    #y_b_pred.append(pred_value)\n",
    "    \n",
    "    return pred_value\n",
    "    \n",
    "day='day'\n",
    "month='month'\n",
    "\n",
    "y_b_pred_mean=[]\n",
    "#List Comprehension\n",
    "y_b_pred_mean=[baseline_mean(y_day_month_mean,day,month,row) for row in X_valid.iterrows()]\n",
    "y_b_pred_mean\n",
    "\n"
   ]
  },
  {
   "cell_type": "code",
   "execution_count": null,
   "metadata": {},
   "outputs": [],
   "source": [
    "#Check if it worked\n",
    "df_y_b_pred_mean=pd.DataFrame(y_b_pred,columns=['day_month_mean'],index=X_valid.index)\n",
    "df_test=pd.concat([df_y_b_pred_mean,X_valid],axis=1)\n",
    "df_test\n",
    "\n",
    "\n",
    "\n",
    "\n"
   ]
  },
  {
   "cell_type": "code",
   "execution_count": null,
   "metadata": {},
   "outputs": [],
   "source": [
    "y_day_month_mean.head(20)"
   ]
  },
  {
   "cell_type": "code",
   "execution_count": null,
   "metadata": {},
   "outputs": [],
   "source": [
    "#get a Root Mean Squard Log Error (RMSLE)-score\n",
    "rmsle_b_mean=np.sqrt(mean_squared_log_error(y_valid,df_y_b_pred_mean))\n",
    "print(f'baseline model score: {round(rmsle_b_mean,6)}')"
   ]
  },
  {
   "cell_type": "markdown",
   "metadata": {},
   "source": [
    "## compare R² Baseline, submit to Kaggle"
   ]
  },
  {
   "cell_type": "code",
   "execution_count": null,
   "metadata": {},
   "outputs": [],
   "source": [
    "print(f'baseline model pipeline score: {round(rmsle_b_pipe,6)}')\n",
    "print(f'baseline model ohe manual score: {round(rmsle_b_ohe,6)}')\n",
    "print(f'baseline model mean manual score: {round(rmsle_b_mean,6)}')\n",
    "#ohe is the best"
   ]
  },
  {
   "cell_type": "code",
   "execution_count": null,
   "metadata": {},
   "outputs": [],
   "source": [
    "#Predict\n",
    "y_pred_ohe_kaggle=m_ohe.predict(X_test_ohe)\n",
    "y_pred_ohe_kaggle.shape\n"
   ]
  },
  {
   "cell_type": "code",
   "execution_count": null,
   "metadata": {},
   "outputs": [],
   "source": [
    "df_count_kaggle=pd.DataFrame(y_pred_ohe_kaggle,index=X_test.index)\n",
    "df_count_kaggle.rename(columns = {0:'count'}, inplace = True)\n",
    "df_count_kaggle[df_count_kaggle['count']<0]=0\n",
    "df_count_kaggle"
   ]
  },
  {
   "cell_type": "code",
   "execution_count": null,
   "metadata": {},
   "outputs": [],
   "source": [
    "#csv\n",
    "df_count_kaggle.to_csv(\"submission.csv\",index=True)"
   ]
  },
  {
   "cell_type": "markdown",
   "metadata": {},
   "source": [
    "# Train and Test the Model (Estimator)"
   ]
  },
  {
   "cell_type": "code",
   "execution_count": null,
   "metadata": {},
   "outputs": [],
   "source": [
    "#do train and test WITHOUT regarding to EDA, just to try if process is working"
   ]
  },
  {
   "cell_type": "code",
   "execution_count": 135,
   "metadata": {},
   "outputs": [
    {
     "data": {
      "text/html": [
       "<div>\n",
       "<style scoped>\n",
       "    .dataframe tbody tr th:only-of-type {\n",
       "        vertical-align: middle;\n",
       "    }\n",
       "\n",
       "    .dataframe tbody tr th {\n",
       "        vertical-align: top;\n",
       "    }\n",
       "\n",
       "    .dataframe thead th {\n",
       "        text-align: right;\n",
       "    }\n",
       "</style>\n",
       "<table border=\"1\" class=\"dataframe\">\n",
       "  <thead>\n",
       "    <tr style=\"text-align: right;\">\n",
       "      <th></th>\n",
       "      <th>season</th>\n",
       "      <th>holiday</th>\n",
       "      <th>workingday</th>\n",
       "      <th>weather</th>\n",
       "      <th>temp</th>\n",
       "      <th>atemp</th>\n",
       "      <th>humidity</th>\n",
       "      <th>windspeed</th>\n",
       "    </tr>\n",
       "    <tr>\n",
       "      <th>datetime</th>\n",
       "      <th></th>\n",
       "      <th></th>\n",
       "      <th></th>\n",
       "      <th></th>\n",
       "      <th></th>\n",
       "      <th></th>\n",
       "      <th></th>\n",
       "      <th></th>\n",
       "    </tr>\n",
       "  </thead>\n",
       "  <tbody>\n",
       "    <tr>\n",
       "      <th>2011-01-01 00:00:00</th>\n",
       "      <td>1</td>\n",
       "      <td>0</td>\n",
       "      <td>0</td>\n",
       "      <td>1</td>\n",
       "      <td>9.84</td>\n",
       "      <td>14.395</td>\n",
       "      <td>81</td>\n",
       "      <td>0.0000</td>\n",
       "    </tr>\n",
       "    <tr>\n",
       "      <th>2011-01-01 01:00:00</th>\n",
       "      <td>1</td>\n",
       "      <td>0</td>\n",
       "      <td>0</td>\n",
       "      <td>1</td>\n",
       "      <td>9.02</td>\n",
       "      <td>13.635</td>\n",
       "      <td>80</td>\n",
       "      <td>0.0000</td>\n",
       "    </tr>\n",
       "    <tr>\n",
       "      <th>2011-01-01 02:00:00</th>\n",
       "      <td>1</td>\n",
       "      <td>0</td>\n",
       "      <td>0</td>\n",
       "      <td>1</td>\n",
       "      <td>9.02</td>\n",
       "      <td>13.635</td>\n",
       "      <td>80</td>\n",
       "      <td>0.0000</td>\n",
       "    </tr>\n",
       "    <tr>\n",
       "      <th>2011-01-01 03:00:00</th>\n",
       "      <td>1</td>\n",
       "      <td>0</td>\n",
       "      <td>0</td>\n",
       "      <td>1</td>\n",
       "      <td>9.84</td>\n",
       "      <td>14.395</td>\n",
       "      <td>75</td>\n",
       "      <td>0.0000</td>\n",
       "    </tr>\n",
       "    <tr>\n",
       "      <th>2011-01-01 04:00:00</th>\n",
       "      <td>1</td>\n",
       "      <td>0</td>\n",
       "      <td>0</td>\n",
       "      <td>1</td>\n",
       "      <td>9.84</td>\n",
       "      <td>14.395</td>\n",
       "      <td>75</td>\n",
       "      <td>0.0000</td>\n",
       "    </tr>\n",
       "    <tr>\n",
       "      <th>2011-01-01 05:00:00</th>\n",
       "      <td>1</td>\n",
       "      <td>0</td>\n",
       "      <td>0</td>\n",
       "      <td>2</td>\n",
       "      <td>9.84</td>\n",
       "      <td>12.880</td>\n",
       "      <td>75</td>\n",
       "      <td>6.0032</td>\n",
       "    </tr>\n",
       "    <tr>\n",
       "      <th>2011-01-01 06:00:00</th>\n",
       "      <td>1</td>\n",
       "      <td>0</td>\n",
       "      <td>0</td>\n",
       "      <td>1</td>\n",
       "      <td>9.02</td>\n",
       "      <td>13.635</td>\n",
       "      <td>80</td>\n",
       "      <td>0.0000</td>\n",
       "    </tr>\n",
       "    <tr>\n",
       "      <th>2011-01-01 07:00:00</th>\n",
       "      <td>1</td>\n",
       "      <td>0</td>\n",
       "      <td>0</td>\n",
       "      <td>1</td>\n",
       "      <td>8.20</td>\n",
       "      <td>12.880</td>\n",
       "      <td>86</td>\n",
       "      <td>0.0000</td>\n",
       "    </tr>\n",
       "    <tr>\n",
       "      <th>2011-01-01 08:00:00</th>\n",
       "      <td>1</td>\n",
       "      <td>0</td>\n",
       "      <td>0</td>\n",
       "      <td>1</td>\n",
       "      <td>9.84</td>\n",
       "      <td>14.395</td>\n",
       "      <td>75</td>\n",
       "      <td>0.0000</td>\n",
       "    </tr>\n",
       "    <tr>\n",
       "      <th>2011-01-01 09:00:00</th>\n",
       "      <td>1</td>\n",
       "      <td>0</td>\n",
       "      <td>0</td>\n",
       "      <td>1</td>\n",
       "      <td>13.12</td>\n",
       "      <td>17.425</td>\n",
       "      <td>76</td>\n",
       "      <td>0.0000</td>\n",
       "    </tr>\n",
       "  </tbody>\n",
       "</table>\n",
       "</div>"
      ]
     },
     "execution_count": 135,
     "metadata": {},
     "output_type": "execute_result"
    }
   ],
   "source": [
    "df_bike=pd.read_csv('train.csv', parse_dates=True, index_col=0 )\n",
    "X=df_bike.copy()\n",
    "X.drop(['casual','registered','count'],axis=1,inplace=True)\n",
    "X.head(10)"
   ]
  },
  {
   "cell_type": "code",
   "execution_count": 136,
   "metadata": {},
   "outputs": [
    {
     "data": {
      "text/html": [
       "<pre style='white-space:pre;overflow-x:auto;line-height:normal'>\n",
       "datetime\n",
       "<span style=\"color: #101010; text-decoration-color: #101010\">2011</span>-<span style=\"color: #101010; text-decoration-color: #101010\">01</span>-<span style=\"color: #101010; text-decoration-color: #101010\">01</span> <span style=\"color: #00ff00; text-decoration-color: #00ff00; font-weight: bold\">00:00:00</span>     <span style=\"color: #101010; text-decoration-color: #101010\">16</span>\n",
       "<span style=\"color: #101010; text-decoration-color: #101010\">2011</span>-<span style=\"color: #101010; text-decoration-color: #101010\">01</span>-<span style=\"color: #101010; text-decoration-color: #101010\">01</span> <span style=\"color: #00ff00; text-decoration-color: #00ff00; font-weight: bold\">01:00:00</span>     <span style=\"color: #101010; text-decoration-color: #101010\">40</span>\n",
       "<span style=\"color: #101010; text-decoration-color: #101010\">2011</span>-<span style=\"color: #101010; text-decoration-color: #101010\">01</span>-<span style=\"color: #101010; text-decoration-color: #101010\">01</span> <span style=\"color: #00ff00; text-decoration-color: #00ff00; font-weight: bold\">02:00:00</span>     <span style=\"color: #101010; text-decoration-color: #101010\">32</span>\n",
       "<span style=\"color: #101010; text-decoration-color: #101010\">2011</span>-<span style=\"color: #101010; text-decoration-color: #101010\">01</span>-<span style=\"color: #101010; text-decoration-color: #101010\">01</span> <span style=\"color: #00ff00; text-decoration-color: #00ff00; font-weight: bold\">03:00:00</span>     <span style=\"color: #101010; text-decoration-color: #101010\">13</span>\n",
       "<span style=\"color: #101010; text-decoration-color: #101010\">2011</span>-<span style=\"color: #101010; text-decoration-color: #101010\">01</span>-<span style=\"color: #101010; text-decoration-color: #101010\">01</span> <span style=\"color: #00ff00; text-decoration-color: #00ff00; font-weight: bold\">04:00:00</span>      <span style=\"color: #101010; text-decoration-color: #101010\">1</span>\n",
       "<span style=\"color: #808080; text-decoration-color: #808080\">│   │   │   │   │     </span><span style=\"color: #808000; text-decoration-color: #808000\">...</span> \n",
       "<span style=\"color: #101010; text-decoration-color: #101010\">2012</span>-<span style=\"color: #101010; text-decoration-color: #101010\">12</span>-<span style=\"color: #101010; text-decoration-color: #101010\">19</span> <span style=\"color: #00ff00; text-decoration-color: #00ff00; font-weight: bold\">19:00:00</span>    <span style=\"color: #101010; text-decoration-color: #101010\">336</span>\n",
       "<span style=\"color: #101010; text-decoration-color: #101010\">2012</span>-<span style=\"color: #101010; text-decoration-color: #101010\">12</span>-<span style=\"color: #101010; text-decoration-color: #101010\">19</span> <span style=\"color: #00ff00; text-decoration-color: #00ff00; font-weight: bold\">20:00:00</span>    <span style=\"color: #101010; text-decoration-color: #101010\">241</span>\n",
       "<span style=\"color: #101010; text-decoration-color: #101010\">2012</span>-<span style=\"color: #101010; text-decoration-color: #101010\">12</span>-<span style=\"color: #101010; text-decoration-color: #101010\">19</span> <span style=\"color: #00ff00; text-decoration-color: #00ff00; font-weight: bold\">21:00:00</span>    <span style=\"color: #101010; text-decoration-color: #101010\">168</span>\n",
       "<span style=\"color: #101010; text-decoration-color: #101010\">2012</span>-<span style=\"color: #101010; text-decoration-color: #101010\">12</span>-<span style=\"color: #101010; text-decoration-color: #101010\">19</span> <span style=\"color: #00ff00; text-decoration-color: #00ff00; font-weight: bold\">22:00:00</span>    <span style=\"color: #101010; text-decoration-color: #101010\">129</span>\n",
       "<span style=\"color: #101010; text-decoration-color: #101010\">2012</span>-<span style=\"color: #101010; text-decoration-color: #101010\">12</span>-<span style=\"color: #101010; text-decoration-color: #101010\">19</span> <span style=\"color: #00ff00; text-decoration-color: #00ff00; font-weight: bold\">23:00:00</span>     <span style=\"color: #101010; text-decoration-color: #101010\">88</span>\n",
       "Name: count, Length: <span style=\"color: #101010; text-decoration-color: #101010\">10886</span>, dtype: int64\n",
       "</pre>"
      ],
      "text/plain": [
       "\n",
       "datetime\n",
       "\u001b[38;2;16;16;16m2011\u001b[0m-\u001b[38;2;16;16;16m01\u001b[0m-\u001b[38;2;16;16;16m01\u001b[0m \u001b[1;92m00:00:00\u001b[0m     \u001b[38;2;16;16;16m16\u001b[0m\n",
       "\u001b[38;2;16;16;16m2011\u001b[0m-\u001b[38;2;16;16;16m01\u001b[0m-\u001b[38;2;16;16;16m01\u001b[0m \u001b[1;92m01:00:00\u001b[0m     \u001b[38;2;16;16;16m40\u001b[0m\n",
       "\u001b[38;2;16;16;16m2011\u001b[0m-\u001b[38;2;16;16;16m01\u001b[0m-\u001b[38;2;16;16;16m01\u001b[0m \u001b[1;92m02:00:00\u001b[0m     \u001b[38;2;16;16;16m32\u001b[0m\n",
       "\u001b[38;2;16;16;16m2011\u001b[0m-\u001b[38;2;16;16;16m01\u001b[0m-\u001b[38;2;16;16;16m01\u001b[0m \u001b[1;92m03:00:00\u001b[0m     \u001b[38;2;16;16;16m13\u001b[0m\n",
       "\u001b[38;2;16;16;16m2011\u001b[0m-\u001b[38;2;16;16;16m01\u001b[0m-\u001b[38;2;16;16;16m01\u001b[0m \u001b[1;92m04:00:00\u001b[0m      \u001b[38;2;16;16;16m1\u001b[0m\n",
       "\u001b[38;2;128;128;128m│   │   │   │   │     \u001b[0m\u001b[33m...\u001b[0m \n",
       "\u001b[38;2;16;16;16m2012\u001b[0m-\u001b[38;2;16;16;16m12\u001b[0m-\u001b[38;2;16;16;16m19\u001b[0m \u001b[1;92m19:00:00\u001b[0m    \u001b[38;2;16;16;16m336\u001b[0m\n",
       "\u001b[38;2;16;16;16m2012\u001b[0m-\u001b[38;2;16;16;16m12\u001b[0m-\u001b[38;2;16;16;16m19\u001b[0m \u001b[1;92m20:00:00\u001b[0m    \u001b[38;2;16;16;16m241\u001b[0m\n",
       "\u001b[38;2;16;16;16m2012\u001b[0m-\u001b[38;2;16;16;16m12\u001b[0m-\u001b[38;2;16;16;16m19\u001b[0m \u001b[1;92m21:00:00\u001b[0m    \u001b[38;2;16;16;16m168\u001b[0m\n",
       "\u001b[38;2;16;16;16m2012\u001b[0m-\u001b[38;2;16;16;16m12\u001b[0m-\u001b[38;2;16;16;16m19\u001b[0m \u001b[1;92m22:00:00\u001b[0m    \u001b[38;2;16;16;16m129\u001b[0m\n",
       "\u001b[38;2;16;16;16m2012\u001b[0m-\u001b[38;2;16;16;16m12\u001b[0m-\u001b[38;2;16;16;16m19\u001b[0m \u001b[1;92m23:00:00\u001b[0m     \u001b[38;2;16;16;16m88\u001b[0m\n",
       "Name: count, Length: \u001b[38;2;16;16;16m10886\u001b[0m, dtype: int64\n"
      ]
     },
     "metadata": {},
     "output_type": "display_data"
    }
   ],
   "source": [
    "y = bike.copy()\n",
    "y = y['count']#.to_frame()\n",
    "#y = y.reset_index(level=0)\n",
    "y"
   ]
  },
  {
   "cell_type": "markdown",
   "metadata": {},
   "source": [
    "## Create Pipeline and do Feature Engineering"
   ]
  },
  {
   "cell_type": "code",
   "execution_count": 137,
   "metadata": {},
   "outputs": [],
   "source": [
    "#categorical to encode \n",
    "categorical_features=['season','holiday','workingday','weather']\n",
    "\n",
    "#numerical features to scale and bin afterwards\n",
    "numerical_features= ['temp','atemp','humidity','windspeed']\n"
   ]
  },
  {
   "cell_type": "markdown",
   "metadata": {},
   "source": [
    "### define all necessary functions (FUnction Transformer)"
   ]
  },
  {
   "cell_type": "code",
   "execution_count": 138,
   "metadata": {},
   "outputs": [],
   "source": [
    "def day_period_dataframe(X):\n",
    "    X = pd.DataFrame(X).copy()\n",
    "    \n",
    "    X[\"day_period\"]=X[\"hour\"].apply(day_period)\n",
    "    return X"
   ]
  },
  {
   "cell_type": "code",
   "execution_count": 139,
   "metadata": {},
   "outputs": [],
   "source": [
    "def day_period(hour):\n",
    "    label=None\n",
    "    if hour>=22 or hour<4 or hour==0:\n",
    "        label=\"night\"\n",
    "    elif hour<10:\n",
    "        label=\"morning\"\n",
    "    elif hour<16:\n",
    "        label=\"afternoon\"\n",
    "    else:\n",
    "        label=\"evening\"\n",
    "    return label"
   ]
  },
  {
   "cell_type": "code",
   "execution_count": 140,
   "metadata": {},
   "outputs": [],
   "source": [
    "def timebreakdown (X):\n",
    "    X = pd.DataFrame(X).copy()\n",
    "    \n",
    "    X['year'] = X.index.year\n",
    "    X['month'] = X.index.month\n",
    "    X['weekday'] = X.index.day_name()\n",
    "    X['hour'] = X.index.hour\n",
    "\n",
    "    \n",
    "    return X"
   ]
  },
  {
   "cell_type": "code",
   "execution_count": 141,
   "metadata": {},
   "outputs": [],
   "source": [
    "timebreakdown_step = FunctionTransformer(timebreakdown)"
   ]
  },
  {
   "cell_type": "code",
   "execution_count": 142,
   "metadata": {},
   "outputs": [],
   "source": [
    "day_period_step = FunctionTransformer(day_period_dataframe)"
   ]
  },
  {
   "cell_type": "markdown",
   "metadata": {},
   "source": [
    "### Main pipeline and 2 sub-pipelines"
   ]
  },
  {
   "cell_type": "code",
   "execution_count": 143,
   "metadata": {},
   "outputs": [],
   "source": [
    "#Categorical\n",
    "# now we define the steps we need to do for both groups of columns\n",
    "categorical_steps = [('timebreakdown', timebreakdown_step),\n",
    "                     ('day_period_step', day_period_step),\n",
    "                     ('onehot', OneHotEncoder(handle_unknown='ignore'))]"
   ]
  },
  {
   "cell_type": "code",
   "execution_count": 144,
   "metadata": {},
   "outputs": [
    {
     "data": {
      "text/html": [
       "<pre style='white-space:pre;overflow-x:auto;line-height:normal'>\n",
       "<span style=\"color: #0011aa; text-decoration-color: #0011aa\">Pipeline</span><span style=\"font-weight: bold\">(</span><span style=\"color: #005500; text-decoration-color: #005500\">memory</span>=<span style=\"color: #266290; text-decoration-color: #266290\">None</span>,\n",
       "<span style=\"color: #808080; text-decoration-color: #808080\">│   │    </span><span style=\"color: #005500; text-decoration-color: #005500\">steps</span>=<span style=\"font-weight: bold\">[(</span><span style=\"color: #8b008b; text-decoration-color: #8b008b\">'timebreakdown'</span>,\n",
       "<span style=\"color: #808080; text-decoration-color: #808080\">│   │   │   │    </span><span style=\"color: #0011aa; text-decoration-color: #0011aa\">FunctionTransformer</span><span style=\"font-weight: bold\">(</span><span style=\"color: #005500; text-decoration-color: #005500\">accept_sparse</span>=<span style=\"color: #266290; text-decoration-color: #266290\">False</span>, <span style=\"color: #005500; text-decoration-color: #005500\">check_inverse</span>=<span style=\"color: #266290; text-decoration-color: #266290\">True</span>,\n",
       "<span style=\"color: #808080; text-decoration-color: #808080\">│   │   │   │   │   │   │   │   │    </span><span style=\"color: #005500; text-decoration-color: #005500\">func</span>=<span style=\"font-weight: bold\">&lt;</span><span style=\"color: #0011aa; text-decoration-color: #0011aa\">function</span><span style=\"color: #000000; text-decoration-color: #000000\"> timebreakdown at </span><span style=\"color: #101010; text-decoration-color: #101010\">0x7ff9c13d85f0</span><span style=\"font-weight: bold\">&gt;</span>,\n",
       "<span style=\"color: #808080; text-decoration-color: #808080\">│   │   │   │   │   │   │   │   │    </span><span style=\"color: #005500; text-decoration-color: #005500\">inv_kw_args</span>=<span style=\"color: #266290; text-decoration-color: #266290\">None</span>, <span style=\"color: #005500; text-decoration-color: #005500\">inverse_func</span>=<span style=\"color: #266290; text-decoration-color: #266290\">None</span>,\n",
       "<span style=\"color: #808080; text-decoration-color: #808080\">│   │   │   │   │   │   │   │   │    </span><span style=\"color: #005500; text-decoration-color: #005500\">kw_args</span>=<span style=\"color: #266290; text-decoration-color: #266290\">None</span>, <span style=\"color: #005500; text-decoration-color: #005500\">validate</span>=<span style=\"color: #266290; text-decoration-color: #266290\">False</span><span style=\"font-weight: bold\">))</span>,\n",
       "<span style=\"color: #808080; text-decoration-color: #808080\">│   │   │   │   </span><span style=\"font-weight: bold\">(</span><span style=\"color: #8b008b; text-decoration-color: #8b008b\">'day_period_step'</span>,\n",
       "<span style=\"color: #808080; text-decoration-color: #808080\">│   │   │   │    </span><span style=\"color: #0011aa; text-decoration-color: #0011aa\">FunctionTransformer</span><span style=\"font-weight: bold\">(</span><span style=\"color: #005500; text-decoration-color: #005500\">accept_sparse</span>=<span style=\"color: #266290; text-decoration-color: #266290\">False</span>, <span style=\"color: #005500; text-decoration-color: #005500\">check_inverse</span>=<span style=\"color: #266290; text-decoration-color: #266290\">True</span>,\n",
       "<span style=\"color: #808080; text-decoration-color: #808080\">│   │   │   │   │   │   │   │   │    </span><span style=\"color: #005500; text-decoration-color: #005500\">func</span>=<span style=\"font-weight: bold\">&lt;</span><span style=\"color: #0011aa; text-decoration-color: #0011aa\">function</span><span style=\"color: #000000; text-decoration-color: #000000\"> day_period_dataframe at </span><span style=\"color: #101010; text-decoration-color: #101010\">0x7ff9c13d8d40</span><span style=\"font-weight: bold\">&gt;</span>,\n",
       "<span style=\"color: #808080; text-decoration-color: #808080\">│   │   │   │   │   │   │   │   │    </span><span style=\"color: #005500; text-decoration-color: #005500\">inv_kw_args</span>=<span style=\"color: #266290; text-decoration-color: #266290\">None</span>, <span style=\"color: #005500; text-decoration-color: #005500\">inverse_func</span>=<span style=\"color: #266290; text-decoration-color: #266290\">None</span>,\n",
       "<span style=\"color: #808080; text-decoration-color: #808080\">│   │   │   │   │   │   │   │   │    </span><span style=\"color: #005500; text-decoration-color: #005500\">kw_args</span>=<span style=\"color: #266290; text-decoration-color: #266290\">None</span>, <span style=\"color: #005500; text-decoration-color: #005500\">validate</span>=<span style=\"color: #266290; text-decoration-color: #266290\">False</span><span style=\"font-weight: bold\">))</span>,\n",
       "<span style=\"color: #808080; text-decoration-color: #808080\">│   │   │   │   </span><span style=\"font-weight: bold\">(</span><span style=\"color: #8b008b; text-decoration-color: #8b008b\">'onehot'</span>,\n",
       "<span style=\"color: #808080; text-decoration-color: #808080\">│   │   │   │    </span><span style=\"color: #0011aa; text-decoration-color: #0011aa\">OneHotEncoder</span><span style=\"font-weight: bold\">(</span><span style=\"color: #005500; text-decoration-color: #005500\">categories</span>=<span style=\"color: #8b008b; text-decoration-color: #8b008b\">'auto'</span>, <span style=\"color: #005500; text-decoration-color: #005500\">drop</span>=<span style=\"color: #266290; text-decoration-color: #266290\">None</span>,\n",
       "<span style=\"color: #808080; text-decoration-color: #808080\">│   │   │   │   │   │   │      </span><span style=\"color: #005500; text-decoration-color: #005500\">dtype</span>=<span style=\"font-weight: bold\">&lt;</span><span style=\"color: #0011aa; text-decoration-color: #0011aa\">class</span><span style=\"color: #000000; text-decoration-color: #000000\"> </span><span style=\"color: #8b008b; text-decoration-color: #8b008b\">'numpy.float64'</span><span style=\"font-weight: bold\">&gt;</span>,\n",
       "<span style=\"color: #808080; text-decoration-color: #808080\">│   │   │   │   │   │   │      </span><span style=\"color: #005500; text-decoration-color: #005500\">handle_unknown</span>=<span style=\"color: #8b008b; text-decoration-color: #8b008b\">'ignore'</span>, <span style=\"color: #005500; text-decoration-color: #005500\">sparse</span>=<span style=\"color: #266290; text-decoration-color: #266290\">True</span><span style=\"font-weight: bold\">))]</span>,\n",
       "<span style=\"color: #808080; text-decoration-color: #808080\">│   │    </span><span style=\"color: #005500; text-decoration-color: #005500\">verbose</span>=<span style=\"color: #266290; text-decoration-color: #266290\">False</span><span style=\"font-weight: bold\">)</span>\n",
       "</pre>"
      ],
      "text/plain": [
       "\n",
       "\u001b[38;2;0;17;170mPipeline\u001b[0m\u001b[1m(\u001b[0m\u001b[38;2;0;85;0mmemory\u001b[0m=\u001b[38;2;38;98;144mNone\u001b[0m,\n",
       "\u001b[38;2;128;128;128m│   │    \u001b[0m\u001b[38;2;0;85;0msteps\u001b[0m=\u001b[1m[\u001b[0m\u001b[1m(\u001b[0m\u001b[38;2;139;0;139m'timebreakdown'\u001b[0m,\n",
       "\u001b[38;2;128;128;128m│   │   │   │    \u001b[0m\u001b[38;2;0;17;170mFunctionTransformer\u001b[0m\u001b[1m(\u001b[0m\u001b[38;2;0;85;0maccept_sparse\u001b[0m=\u001b[38;2;38;98;144mFalse\u001b[0m, \u001b[38;2;0;85;0mcheck_inverse\u001b[0m=\u001b[38;2;38;98;144mTrue\u001b[0m,\n",
       "\u001b[38;2;128;128;128m│   │   │   │   │   │   │   │   │    \u001b[0m\u001b[38;2;0;85;0mfunc\u001b[0m=\u001b[1m<\u001b[0m\u001b[38;2;0;17;170mfunction\u001b[0m\u001b[39m timebreakdown at \u001b[0m\u001b[38;2;16;16;16m0x7ff9c13d85f0\u001b[0m\u001b[1m>\u001b[0m,\n",
       "\u001b[38;2;128;128;128m│   │   │   │   │   │   │   │   │    \u001b[0m\u001b[38;2;0;85;0minv_kw_args\u001b[0m=\u001b[38;2;38;98;144mNone\u001b[0m, \u001b[38;2;0;85;0minverse_func\u001b[0m=\u001b[38;2;38;98;144mNone\u001b[0m,\n",
       "\u001b[38;2;128;128;128m│   │   │   │   │   │   │   │   │    \u001b[0m\u001b[38;2;0;85;0mkw_args\u001b[0m=\u001b[38;2;38;98;144mNone\u001b[0m, \u001b[38;2;0;85;0mvalidate\u001b[0m=\u001b[38;2;38;98;144mFalse\u001b[0m\u001b[1m)\u001b[0m\u001b[1m)\u001b[0m,\n",
       "\u001b[38;2;128;128;128m│   │   │   │   \u001b[0m\u001b[1m(\u001b[0m\u001b[38;2;139;0;139m'day_period_step'\u001b[0m,\n",
       "\u001b[38;2;128;128;128m│   │   │   │    \u001b[0m\u001b[38;2;0;17;170mFunctionTransformer\u001b[0m\u001b[1m(\u001b[0m\u001b[38;2;0;85;0maccept_sparse\u001b[0m=\u001b[38;2;38;98;144mFalse\u001b[0m, \u001b[38;2;0;85;0mcheck_inverse\u001b[0m=\u001b[38;2;38;98;144mTrue\u001b[0m,\n",
       "\u001b[38;2;128;128;128m│   │   │   │   │   │   │   │   │    \u001b[0m\u001b[38;2;0;85;0mfunc\u001b[0m=\u001b[1m<\u001b[0m\u001b[38;2;0;17;170mfunction\u001b[0m\u001b[39m day_period_dataframe at \u001b[0m\u001b[38;2;16;16;16m0x7ff9c13d8d40\u001b[0m\u001b[1m>\u001b[0m,\n",
       "\u001b[38;2;128;128;128m│   │   │   │   │   │   │   │   │    \u001b[0m\u001b[38;2;0;85;0minv_kw_args\u001b[0m=\u001b[38;2;38;98;144mNone\u001b[0m, \u001b[38;2;0;85;0minverse_func\u001b[0m=\u001b[38;2;38;98;144mNone\u001b[0m,\n",
       "\u001b[38;2;128;128;128m│   │   │   │   │   │   │   │   │    \u001b[0m\u001b[38;2;0;85;0mkw_args\u001b[0m=\u001b[38;2;38;98;144mNone\u001b[0m, \u001b[38;2;0;85;0mvalidate\u001b[0m=\u001b[38;2;38;98;144mFalse\u001b[0m\u001b[1m)\u001b[0m\u001b[1m)\u001b[0m,\n",
       "\u001b[38;2;128;128;128m│   │   │   │   \u001b[0m\u001b[1m(\u001b[0m\u001b[38;2;139;0;139m'onehot'\u001b[0m,\n",
       "\u001b[38;2;128;128;128m│   │   │   │    \u001b[0m\u001b[38;2;0;17;170mOneHotEncoder\u001b[0m\u001b[1m(\u001b[0m\u001b[38;2;0;85;0mcategories\u001b[0m=\u001b[38;2;139;0;139m'auto'\u001b[0m, \u001b[38;2;0;85;0mdrop\u001b[0m=\u001b[38;2;38;98;144mNone\u001b[0m,\n",
       "\u001b[38;2;128;128;128m│   │   │   │   │   │   │      \u001b[0m\u001b[38;2;0;85;0mdtype\u001b[0m=\u001b[1m<\u001b[0m\u001b[38;2;0;17;170mclass\u001b[0m\u001b[39m \u001b[0m\u001b[38;2;139;0;139m'numpy.float64'\u001b[0m\u001b[1m>\u001b[0m,\n",
       "\u001b[38;2;128;128;128m│   │   │   │   │   │   │      \u001b[0m\u001b[38;2;0;85;0mhandle_unknown\u001b[0m=\u001b[38;2;139;0;139m'ignore'\u001b[0m, \u001b[38;2;0;85;0msparse\u001b[0m=\u001b[38;2;38;98;144mTrue\u001b[0m\u001b[1m)\u001b[0m\u001b[1m)\u001b[0m\u001b[1m]\u001b[0m,\n",
       "\u001b[38;2;128;128;128m│   │    \u001b[0m\u001b[38;2;0;85;0mverbose\u001b[0m=\u001b[38;2;38;98;144mFalse\u001b[0m\u001b[1m)\u001b[0m\n"
      ]
     },
     "metadata": {},
     "output_type": "display_data"
    }
   ],
   "source": [
    "#sub pipeline 1\n",
    "categorical_transformer = Pipeline(categorical_steps)\n",
    "categorical_transformer"
   ]
  },
  {
   "cell_type": "code",
   "execution_count": 145,
   "metadata": {},
   "outputs": [
    {
     "data": {
      "text/html": [
       "<pre style='white-space:pre;overflow-x:auto;line-height:normal'>\n",
       "<span style=\"color: #0011aa; text-decoration-color: #0011aa\">Pipeline</span><span style=\"font-weight: bold\">(</span><span style=\"color: #005500; text-decoration-color: #005500\">memory</span>=<span style=\"color: #266290; text-decoration-color: #266290\">None</span>,\n",
       "<span style=\"color: #808080; text-decoration-color: #808080\">│   │    </span><span style=\"color: #005500; text-decoration-color: #005500\">steps</span>=<span style=\"font-weight: bold\">[(</span><span style=\"color: #8b008b; text-decoration-color: #8b008b\">'imputer'</span>,\n",
       "<span style=\"color: #808080; text-decoration-color: #808080\">│   │   │   │    </span><span style=\"color: #0011aa; text-decoration-color: #0011aa\">SimpleImputer</span><span style=\"font-weight: bold\">(</span><span style=\"color: #005500; text-decoration-color: #005500\">add_indicator</span>=<span style=\"color: #266290; text-decoration-color: #266290\">False</span>, <span style=\"color: #005500; text-decoration-color: #005500\">copy</span>=<span style=\"color: #266290; text-decoration-color: #266290\">True</span>, <span style=\"color: #005500; text-decoration-color: #005500\">fill_value</span>=<span style=\"color: #266290; text-decoration-color: #266290\">None</span>,\n",
       "<span style=\"color: #808080; text-decoration-color: #808080\">│   │   │   │   │   │   │      </span><span style=\"color: #005500; text-decoration-color: #005500\">missing_values</span>=<span style=\"color: #0011aa; text-decoration-color: #0011aa\">nan</span>, <span style=\"color: #005500; text-decoration-color: #005500\">strategy</span>=<span style=\"color: #8b008b; text-decoration-color: #8b008b\">'median'</span>,\n",
       "<span style=\"color: #808080; text-decoration-color: #808080\">│   │   │   │   │   │   │      </span><span style=\"color: #005500; text-decoration-color: #005500\">verbose</span>=<span style=\"color: #101010; text-decoration-color: #101010\">0</span><span style=\"font-weight: bold\">))</span>,\n",
       "<span style=\"color: #808080; text-decoration-color: #808080\">│   │   │   │   </span><span style=\"font-weight: bold\">(</span><span style=\"color: #8b008b; text-decoration-color: #8b008b\">'scaler'</span>,\n",
       "<span style=\"color: #808080; text-decoration-color: #808080\">│   │   │   │    </span><span style=\"color: #0011aa; text-decoration-color: #0011aa\">StandardScaler</span><span style=\"font-weight: bold\">(</span><span style=\"color: #005500; text-decoration-color: #005500\">copy</span>=<span style=\"color: #266290; text-decoration-color: #266290\">True</span>, <span style=\"color: #005500; text-decoration-color: #005500\">with_mean</span>=<span style=\"color: #266290; text-decoration-color: #266290\">True</span>, <span style=\"color: #005500; text-decoration-color: #005500\">with_std</span>=<span style=\"color: #266290; text-decoration-color: #266290\">True</span><span style=\"font-weight: bold\">))]</span>,\n",
       "<span style=\"color: #808080; text-decoration-color: #808080\">│   │    </span><span style=\"color: #005500; text-decoration-color: #005500\">verbose</span>=<span style=\"color: #266290; text-decoration-color: #266290\">False</span><span style=\"font-weight: bold\">)</span>\n",
       "</pre>"
      ],
      "text/plain": [
       "\n",
       "\u001b[38;2;0;17;170mPipeline\u001b[0m\u001b[1m(\u001b[0m\u001b[38;2;0;85;0mmemory\u001b[0m=\u001b[38;2;38;98;144mNone\u001b[0m,\n",
       "\u001b[38;2;128;128;128m│   │    \u001b[0m\u001b[38;2;0;85;0msteps\u001b[0m=\u001b[1m[\u001b[0m\u001b[1m(\u001b[0m\u001b[38;2;139;0;139m'imputer'\u001b[0m,\n",
       "\u001b[38;2;128;128;128m│   │   │   │    \u001b[0m\u001b[38;2;0;17;170mSimpleImputer\u001b[0m\u001b[1m(\u001b[0m\u001b[38;2;0;85;0madd_indicator\u001b[0m=\u001b[38;2;38;98;144mFalse\u001b[0m, \u001b[38;2;0;85;0mcopy\u001b[0m=\u001b[38;2;38;98;144mTrue\u001b[0m, \u001b[38;2;0;85;0mfill_value\u001b[0m=\u001b[38;2;38;98;144mNone\u001b[0m,\n",
       "\u001b[38;2;128;128;128m│   │   │   │   │   │   │      \u001b[0m\u001b[38;2;0;85;0mmissing_values\u001b[0m=\u001b[38;2;0;17;170mnan\u001b[0m, \u001b[38;2;0;85;0mstrategy\u001b[0m=\u001b[38;2;139;0;139m'median'\u001b[0m,\n",
       "\u001b[38;2;128;128;128m│   │   │   │   │   │   │      \u001b[0m\u001b[38;2;0;85;0mverbose\u001b[0m=\u001b[38;2;16;16;16m0\u001b[0m\u001b[1m)\u001b[0m\u001b[1m)\u001b[0m,\n",
       "\u001b[38;2;128;128;128m│   │   │   │   \u001b[0m\u001b[1m(\u001b[0m\u001b[38;2;139;0;139m'scaler'\u001b[0m,\n",
       "\u001b[38;2;128;128;128m│   │   │   │    \u001b[0m\u001b[38;2;0;17;170mStandardScaler\u001b[0m\u001b[1m(\u001b[0m\u001b[38;2;0;85;0mcopy\u001b[0m=\u001b[38;2;38;98;144mTrue\u001b[0m, \u001b[38;2;0;85;0mwith_mean\u001b[0m=\u001b[38;2;38;98;144mTrue\u001b[0m, \u001b[38;2;0;85;0mwith_std\u001b[0m=\u001b[38;2;38;98;144mTrue\u001b[0m\u001b[1m)\u001b[0m\u001b[1m)\u001b[0m\u001b[1m]\u001b[0m,\n",
       "\u001b[38;2;128;128;128m│   │    \u001b[0m\u001b[38;2;0;85;0mverbose\u001b[0m=\u001b[38;2;38;98;144mFalse\u001b[0m\u001b[1m)\u001b[0m\n"
      ]
     },
     "metadata": {},
     "output_type": "display_data"
    }
   ],
   "source": [
    "# sub-pipeline 2\n",
    "numeric_steps = [('imputer', SimpleImputer(strategy='median')), \n",
    "                 ('scaler', StandardScaler())]\n",
    "\n",
    "numeric_transformer  = Pipeline(numeric_steps)\n",
    "numeric_transformer"
   ]
  },
  {
   "cell_type": "code",
   "execution_count": 146,
   "metadata": {},
   "outputs": [],
   "source": [
    "#combining both pipelines --> main pipeline\n",
    "preprocessor = ColumnTransformer(transformers=[\n",
    "        ('numeric', numeric_transformer, numerical_features),\n",
    "        ('categorical', categorical_transformer, categorical_features)])\n"
   ]
  },
  {
   "cell_type": "code",
   "execution_count": 147,
   "metadata": {},
   "outputs": [],
   "source": [
    "final_steps = [('preprocessor', preprocessor),\n",
    "     ('LinReg', LinearRegression())]"
   ]
  },
  {
   "cell_type": "code",
   "execution_count": 148,
   "metadata": {},
   "outputs": [],
   "source": [
    "pipeline = Pipeline(final_steps)"
   ]
  },
  {
   "cell_type": "code",
   "execution_count": 149,
   "metadata": {},
   "outputs": [
    {
     "data": {
      "text/html": [
       "<pre style='white-space:pre;overflow-x:auto;line-height:normal'>\n",
       "<span style=\"color: #0011aa; text-decoration-color: #0011aa\">Pipeline</span><span style=\"font-weight: bold\">(</span><span style=\"color: #005500; text-decoration-color: #005500\">memory</span>=<span style=\"color: #266290; text-decoration-color: #266290\">None</span>,\n",
       "<span style=\"color: #808080; text-decoration-color: #808080\">│   │    </span><span style=\"color: #005500; text-decoration-color: #005500\">steps</span>=<span style=\"font-weight: bold\">[(</span><span style=\"color: #8b008b; text-decoration-color: #8b008b\">'preprocessor'</span>,\n",
       "<span style=\"color: #808080; text-decoration-color: #808080\">│   │   │   │    </span><span style=\"color: #0011aa; text-decoration-color: #0011aa\">ColumnTransformer</span><span style=\"font-weight: bold\">(</span><span style=\"color: #005500; text-decoration-color: #005500\">n_jobs</span>=<span style=\"color: #266290; text-decoration-color: #266290\">None</span>, <span style=\"color: #005500; text-decoration-color: #005500\">remainder</span>=<span style=\"color: #8b008b; text-decoration-color: #8b008b\">'drop'</span>,\n",
       "<span style=\"color: #808080; text-decoration-color: #808080\">│   │   │   │   │   │   │   │      </span><span style=\"color: #005500; text-decoration-color: #005500\">sparse_threshold</span>=<span style=\"color: #101010; text-decoration-color: #101010\">0.3</span>,\n",
       "<span style=\"color: #808080; text-decoration-color: #808080\">│   │   │   │   │   │   │   │      </span><span style=\"color: #005500; text-decoration-color: #005500\">transformer_weights</span>=<span style=\"color: #266290; text-decoration-color: #266290\">None</span>,\n",
       "<span style=\"color: #808080; text-decoration-color: #808080\">│   │   │   │   │   │   │   │      </span><span style=\"color: #005500; text-decoration-color: #005500\">transformers</span>=<span style=\"font-weight: bold\">[(</span><span style=\"color: #8b008b; text-decoration-color: #8b008b\">'numeric'</span>,\n",
       "<span style=\"color: #808080; text-decoration-color: #808080\">│   │   │   │   │   │   │   │   │   │   │   │     </span><span style=\"color: #0011aa; text-decoration-color: #0011aa\">Pipeline</span><span style=\"font-weight: bold\">(</span><span style=\"color: #005500; text-decoration-color: #005500\">memory</span>=<span style=\"color: #266290; text-decoration-color: #266290\">None</span>,\n",
       "<span style=\"color: #808080; text-decoration-color: #808080\">│   │   │   │   │   │   │   │   │   │   │   │   │   │      </span><span style=\"color: #005500; text-decoration-color: #005500\">steps</span>=<span style=\"font-weight: bold\">[(</span><span style=\"color: #8b008b; text-decoration-color: #8b008b\">'imputer'</span>,\n",
       "<span style=\"color: #808080; text-decoration-color: #808080\">│   │   │   │   │   │   │   │   │   │   │   │   │   │   │   │      </span><span style=\"color: #0011aa; text-decoration-color: #0011aa\">SimpleImputer</span><span style=\"font-weight: bold\">(</span><span style=\"color: #005500; text-decoration-color: #005500\">add_indicator</span>=<span style=\"color: #266290; text-decoration-color: #266290\">False</span>,\n",
       "<span style=\"color: #808080; text-decoration-color: #808080\">│   │   │   │   │   │   │   │   │   │   │   │   │   │   │   │   │   │   │   │    </span><span style=\"color: #005500; text-decoration-color: #005500\">copy</span>=<span style=\"color: #266290; text-decoration-color: #266290\">True</span>,\n",
       "<span style=\"color: #808080; text-decoration-color: #808080\">│   │   │   │   │   │   │   │   │   │   │   │   │   │   │   │   │   │   │   │    </span><span style=\"color: #005500; text-decoration-color: #005500\">fill_value</span>=<span style=\"color: #266290; text-decoration-color: #266290\">None</span>,\n",
       "<span style=\"color: #808080; text-decoration-color: #808080\">│   │   │   │   │   │   │   │   │   │   │   │   │   │   │   │   │   │   │   │    </span><span style=\"color: #005500; text-decoration-color: #005500\">missing_values</span>=<span style=\"color: #0011aa; text-decoration-color: #0011aa\">nan</span>,\n",
       "<span style=\"color: #808080; text-decoration-color: #808080\">│   │   │   │   │   │   │   │   │   │   │   │   │   │   │   │   │   │   │   │    </span><span style=\"color: #005500; text-decoration-color: #005500\">strategy</span>=<span style=\"color: #8b008b; text-decoration-color: #8b008b\">'median'</span>,\n",
       "<span style=\"color: #808080; text-decoration-color: #808080\">│   │   │   │   │   │   │   │   │   │   │   │   │   │   │   │   │   │   │   │    </span><span style=\"color: #005500; text-decoration-color: #005500\">verbose</span>=<span style=\"color: #101010; text-decoration-color: #101010\">0</span><span style=\"font-weight: bold\">))</span>,\n",
       "<span style=\"color: #808080; text-decoration-color: #808080\">│   │   │   │   │   │   │   │   │   │   │   │   │   │   │   │     </span><span style=\"font-weight: bold\">(</span><span style=\"color: #8b008b; text-decoration-color: #8b008b\">'scaler'</span>,\n",
       "<span style=\"color: #808080; text-decoration-color: #808080\">│   │   │   │   │   │   │   │   │   │   │   │   │   │   │   │      </span><span style=\"color: #0011aa; text-decoration-color: #0011aa\">StandardScaler</span><span style=\"font-weight: bold\">(</span><span style=\"color: #005500; text-decoration-color: #005500\">copy</span>=<span style=\"color: #266290; text-decoration-color: #266290\">True</span>,\n",
       "<span style=\"color: #808080; text-decoration-color: #808080\">│   │   │   │   │   │   │   │   │   │   │   │   │   │   │   │   │   │   │   │     </span>with_<span style=\"color: #808000; text-decoration-color: #808000\">...</span>\n",
       "<span style=\"color: #808080; text-decoration-color: #808080\">│   │   │   │   │   │   │   │   │   │   │   │   │   │   │   │   │   │   │   │   │      </span><span style=\"color: #005500; text-decoration-color: #005500\">inv_kw_args</span>=<span style=\"color: #266290; text-decoration-color: #266290\">None</span>,\n",
       "<span style=\"color: #808080; text-decoration-color: #808080\">│   │   │   │   │   │   │   │   │   │   │   │   │   │   │   │   │   │   │   │   │      </span><span style=\"color: #005500; text-decoration-color: #005500\">inverse_func</span>=<span style=\"color: #266290; text-decoration-color: #266290\">None</span>,\n",
       "<span style=\"color: #808080; text-decoration-color: #808080\">│   │   │   │   │   │   │   │   │   │   │   │   │   │   │   │   │   │   │   │   │      </span><span style=\"color: #005500; text-decoration-color: #005500\">kw_args</span>=<span style=\"color: #266290; text-decoration-color: #266290\">None</span>,\n",
       "<span style=\"color: #808080; text-decoration-color: #808080\">│   │   │   │   │   │   │   │   │   │   │   │   │   │   │   │   │   │   │   │   │      </span><span style=\"color: #005500; text-decoration-color: #005500\">validate</span>=<span style=\"color: #266290; text-decoration-color: #266290\">False</span><span style=\"font-weight: bold\">))</span>,\n",
       "<span style=\"color: #808080; text-decoration-color: #808080\">│   │   │   │   │   │   │   │   │   │   │   │   │   │   │   │     </span><span style=\"font-weight: bold\">(</span><span style=\"color: #8b008b; text-decoration-color: #8b008b\">'onehot'</span>,\n",
       "<span style=\"color: #808080; text-decoration-color: #808080\">│   │   │   │   │   │   │   │   │   │   │   │   │   │   │   │      </span><span style=\"color: #0011aa; text-decoration-color: #0011aa\">OneHotEncoder</span><span style=\"font-weight: bold\">(</span><span style=\"color: #005500; text-decoration-color: #005500\">categories</span>=<span style=\"color: #8b008b; text-decoration-color: #8b008b\">'auto'</span>,\n",
       "<span style=\"color: #808080; text-decoration-color: #808080\">│   │   │   │   │   │   │   │   │   │   │   │   │   │   │   │   │   │   │   │    </span><span style=\"color: #005500; text-decoration-color: #005500\">drop</span>=<span style=\"color: #266290; text-decoration-color: #266290\">None</span>,\n",
       "<span style=\"color: #808080; text-decoration-color: #808080\">│   │   │   │   │   │   │   │   │   │   │   │   │   │   │   │   │   │   │   │    </span><span style=\"color: #005500; text-decoration-color: #005500\">dtype</span>=<span style=\"font-weight: bold\">&lt;</span><span style=\"color: #0011aa; text-decoration-color: #0011aa\">class</span><span style=\"color: #000000; text-decoration-color: #000000\"> </span><span style=\"color: #8b008b; text-decoration-color: #8b008b\">'numpy.float64'</span><span style=\"font-weight: bold\">&gt;</span>,\n",
       "<span style=\"color: #808080; text-decoration-color: #808080\">│   │   │   │   │   │   │   │   │   │   │   │   │   │   │   │   │   │   │   │    </span><span style=\"color: #005500; text-decoration-color: #005500\">handle_unknown</span>=<span style=\"color: #8b008b; text-decoration-color: #8b008b\">'ignore'</span>,\n",
       "<span style=\"color: #808080; text-decoration-color: #808080\">│   │   │   │   │   │   │   │   │   │   │   │   │   │   │   │   │   │   │   │    </span><span style=\"color: #005500; text-decoration-color: #005500\">sparse</span>=<span style=\"color: #266290; text-decoration-color: #266290\">True</span><span style=\"font-weight: bold\">))]</span>,\n",
       "<span style=\"color: #808080; text-decoration-color: #808080\">│   │   │   │   │   │   │   │   │   │   │   │   │   │      </span><span style=\"color: #005500; text-decoration-color: #005500\">verbose</span>=<span style=\"color: #266290; text-decoration-color: #266290\">False</span><span style=\"font-weight: bold\">)</span>,\n",
       "<span style=\"color: #808080; text-decoration-color: #808080\">│   │   │   │   │   │   │   │   │   │   │   │     </span><span style=\"font-weight: bold\">[</span><span style=\"color: #8b008b; text-decoration-color: #8b008b\">'season'</span>, <span style=\"color: #8b008b; text-decoration-color: #8b008b\">'holiday'</span>,\n",
       "<span style=\"color: #808080; text-decoration-color: #808080\">│   │   │   │   │   │   │   │   │   │   │   │      </span><span style=\"color: #8b008b; text-decoration-color: #8b008b\">'workingday'</span>, <span style=\"color: #8b008b; text-decoration-color: #8b008b\">'weather'</span><span style=\"font-weight: bold\">])]</span>,\n",
       "<span style=\"color: #808080; text-decoration-color: #808080\">│   │   │   │   │   │   │   │      </span><span style=\"color: #005500; text-decoration-color: #005500\">verbose</span>=<span style=\"color: #266290; text-decoration-color: #266290\">False</span><span style=\"font-weight: bold\">))</span>,\n",
       "<span style=\"color: #808080; text-decoration-color: #808080\">│   │   │   │   </span><span style=\"font-weight: bold\">(</span><span style=\"color: #8b008b; text-decoration-color: #8b008b\">'LinReg'</span>,\n",
       "<span style=\"color: #808080; text-decoration-color: #808080\">│   │   │   │    </span><span style=\"color: #0011aa; text-decoration-color: #0011aa\">LinearRegression</span><span style=\"font-weight: bold\">(</span><span style=\"color: #005500; text-decoration-color: #005500\">copy_X</span>=<span style=\"color: #266290; text-decoration-color: #266290\">True</span>, <span style=\"color: #005500; text-decoration-color: #005500\">fit_intercept</span>=<span style=\"color: #266290; text-decoration-color: #266290\">True</span>, <span style=\"color: #005500; text-decoration-color: #005500\">n_jobs</span>=<span style=\"color: #266290; text-decoration-color: #266290\">None</span>,\n",
       "<span style=\"color: #808080; text-decoration-color: #808080\">│   │   │   │   │   │   │   │     </span><span style=\"color: #005500; text-decoration-color: #005500\">normalize</span>=<span style=\"color: #266290; text-decoration-color: #266290\">False</span><span style=\"font-weight: bold\">))]</span>,\n",
       "<span style=\"color: #808080; text-decoration-color: #808080\">│   │    </span><span style=\"color: #005500; text-decoration-color: #005500\">verbose</span>=<span style=\"color: #266290; text-decoration-color: #266290\">False</span><span style=\"font-weight: bold\">)</span>\n",
       "</pre>"
      ],
      "text/plain": [
       "\n",
       "\u001b[38;2;0;17;170mPipeline\u001b[0m\u001b[1m(\u001b[0m\u001b[38;2;0;85;0mmemory\u001b[0m=\u001b[38;2;38;98;144mNone\u001b[0m,\n",
       "\u001b[38;2;128;128;128m│   │    \u001b[0m\u001b[38;2;0;85;0msteps\u001b[0m=\u001b[1m[\u001b[0m\u001b[1m(\u001b[0m\u001b[38;2;139;0;139m'preprocessor'\u001b[0m,\n",
       "\u001b[38;2;128;128;128m│   │   │   │    \u001b[0m\u001b[38;2;0;17;170mColumnTransformer\u001b[0m\u001b[1m(\u001b[0m\u001b[38;2;0;85;0mn_jobs\u001b[0m=\u001b[38;2;38;98;144mNone\u001b[0m, \u001b[38;2;0;85;0mremainder\u001b[0m=\u001b[38;2;139;0;139m'drop'\u001b[0m,\n",
       "\u001b[38;2;128;128;128m│   │   │   │   │   │   │   │      \u001b[0m\u001b[38;2;0;85;0msparse_threshold\u001b[0m=\u001b[38;2;16;16;16m0\u001b[0m\u001b[38;2;16;16;16m.3\u001b[0m,\n",
       "\u001b[38;2;128;128;128m│   │   │   │   │   │   │   │      \u001b[0m\u001b[38;2;0;85;0mtransformer_weights\u001b[0m=\u001b[38;2;38;98;144mNone\u001b[0m,\n",
       "\u001b[38;2;128;128;128m│   │   │   │   │   │   │   │      \u001b[0m\u001b[38;2;0;85;0mtransformers\u001b[0m=\u001b[1m[\u001b[0m\u001b[1m(\u001b[0m\u001b[38;2;139;0;139m'numeric'\u001b[0m,\n",
       "\u001b[38;2;128;128;128m│   │   │   │   │   │   │   │   │   │   │   │     \u001b[0m\u001b[38;2;0;17;170mPipeline\u001b[0m\u001b[1m(\u001b[0m\u001b[38;2;0;85;0mmemory\u001b[0m=\u001b[38;2;38;98;144mNone\u001b[0m,\n",
       "\u001b[38;2;128;128;128m│   │   │   │   │   │   │   │   │   │   │   │   │   │      \u001b[0m\u001b[38;2;0;85;0msteps\u001b[0m=\u001b[1m[\u001b[0m\u001b[1m(\u001b[0m\u001b[38;2;139;0;139m'imputer'\u001b[0m,\n",
       "\u001b[38;2;128;128;128m│   │   │   │   │   │   │   │   │   │   │   │   │   │   │   │      \u001b[0m\u001b[38;2;0;17;170mSimpleImputer\u001b[0m\u001b[1m(\u001b[0m\u001b[38;2;0;85;0madd_indicator\u001b[0m=\u001b[38;2;38;98;144mFalse\u001b[0m,\n",
       "\u001b[38;2;128;128;128m│   │   │   │   │   │   │   │   │   │   │   │   │   │   │   │   │   │   │   │    \u001b[0m\u001b[38;2;0;85;0mcopy\u001b[0m=\u001b[38;2;38;98;144mTrue\u001b[0m,\n",
       "\u001b[38;2;128;128;128m│   │   │   │   │   │   │   │   │   │   │   │   │   │   │   │   │   │   │   │    \u001b[0m\u001b[38;2;0;85;0mfill_value\u001b[0m=\u001b[38;2;38;98;144mNone\u001b[0m,\n",
       "\u001b[38;2;128;128;128m│   │   │   │   │   │   │   │   │   │   │   │   │   │   │   │   │   │   │   │    \u001b[0m\u001b[38;2;0;85;0mmissing_values\u001b[0m=\u001b[38;2;0;17;170mnan\u001b[0m,\n",
       "\u001b[38;2;128;128;128m│   │   │   │   │   │   │   │   │   │   │   │   │   │   │   │   │   │   │   │    \u001b[0m\u001b[38;2;0;85;0mstrategy\u001b[0m=\u001b[38;2;139;0;139m'median'\u001b[0m,\n",
       "\u001b[38;2;128;128;128m│   │   │   │   │   │   │   │   │   │   │   │   │   │   │   │   │   │   │   │    \u001b[0m\u001b[38;2;0;85;0mverbose\u001b[0m=\u001b[38;2;16;16;16m0\u001b[0m\u001b[1m)\u001b[0m\u001b[1m)\u001b[0m,\n",
       "\u001b[38;2;128;128;128m│   │   │   │   │   │   │   │   │   │   │   │   │   │   │   │     \u001b[0m\u001b[1m(\u001b[0m\u001b[38;2;139;0;139m'scaler'\u001b[0m,\n",
       "\u001b[38;2;128;128;128m│   │   │   │   │   │   │   │   │   │   │   │   │   │   │   │      \u001b[0m\u001b[38;2;0;17;170mStandardScaler\u001b[0m\u001b[1m(\u001b[0m\u001b[38;2;0;85;0mcopy\u001b[0m=\u001b[38;2;38;98;144mTrue\u001b[0m,\n",
       "\u001b[38;2;128;128;128m│   │   │   │   │   │   │   │   │   │   │   │   │   │   │   │   │   │   │   │     \u001b[0mwith_\u001b[33m...\u001b[0m\n",
       "\u001b[38;2;128;128;128m│   │   │   │   │   │   │   │   │   │   │   │   │   │   │   │   │   │   │   │   │      \u001b[0m\u001b[38;2;0;85;0minv_kw_args\u001b[0m=\u001b[38;2;38;98;144mNone\u001b[0m,\n",
       "\u001b[38;2;128;128;128m│   │   │   │   │   │   │   │   │   │   │   │   │   │   │   │   │   │   │   │   │      \u001b[0m\u001b[38;2;0;85;0minverse_func\u001b[0m=\u001b[38;2;38;98;144mNone\u001b[0m,\n",
       "\u001b[38;2;128;128;128m│   │   │   │   │   │   │   │   │   │   │   │   │   │   │   │   │   │   │   │   │      \u001b[0m\u001b[38;2;0;85;0mkw_args\u001b[0m=\u001b[38;2;38;98;144mNone\u001b[0m,\n",
       "\u001b[38;2;128;128;128m│   │   │   │   │   │   │   │   │   │   │   │   │   │   │   │   │   │   │   │   │      \u001b[0m\u001b[38;2;0;85;0mvalidate\u001b[0m=\u001b[38;2;38;98;144mFalse\u001b[0m\u001b[1m)\u001b[0m\u001b[1m)\u001b[0m,\n",
       "\u001b[38;2;128;128;128m│   │   │   │   │   │   │   │   │   │   │   │   │   │   │   │     \u001b[0m\u001b[1m(\u001b[0m\u001b[38;2;139;0;139m'onehot'\u001b[0m,\n",
       "\u001b[38;2;128;128;128m│   │   │   │   │   │   │   │   │   │   │   │   │   │   │   │      \u001b[0m\u001b[38;2;0;17;170mOneHotEncoder\u001b[0m\u001b[1m(\u001b[0m\u001b[38;2;0;85;0mcategories\u001b[0m=\u001b[38;2;139;0;139m'auto'\u001b[0m,\n",
       "\u001b[38;2;128;128;128m│   │   │   │   │   │   │   │   │   │   │   │   │   │   │   │   │   │   │   │    \u001b[0m\u001b[38;2;0;85;0mdrop\u001b[0m=\u001b[38;2;38;98;144mNone\u001b[0m,\n",
       "\u001b[38;2;128;128;128m│   │   │   │   │   │   │   │   │   │   │   │   │   │   │   │   │   │   │   │    \u001b[0m\u001b[38;2;0;85;0mdtype\u001b[0m=\u001b[1m<\u001b[0m\u001b[38;2;0;17;170mclass\u001b[0m\u001b[39m \u001b[0m\u001b[38;2;139;0;139m'numpy.float64'\u001b[0m\u001b[1m>\u001b[0m,\n",
       "\u001b[38;2;128;128;128m│   │   │   │   │   │   │   │   │   │   │   │   │   │   │   │   │   │   │   │    \u001b[0m\u001b[38;2;0;85;0mhandle_unknown\u001b[0m=\u001b[38;2;139;0;139m'ignore'\u001b[0m,\n",
       "\u001b[38;2;128;128;128m│   │   │   │   │   │   │   │   │   │   │   │   │   │   │   │   │   │   │   │    \u001b[0m\u001b[38;2;0;85;0msparse\u001b[0m=\u001b[38;2;38;98;144mTrue\u001b[0m\u001b[1m)\u001b[0m\u001b[1m)\u001b[0m\u001b[1m]\u001b[0m,\n",
       "\u001b[38;2;128;128;128m│   │   │   │   │   │   │   │   │   │   │   │   │   │      \u001b[0m\u001b[38;2;0;85;0mverbose\u001b[0m=\u001b[38;2;38;98;144mFalse\u001b[0m\u001b[1m)\u001b[0m,\n",
       "\u001b[38;2;128;128;128m│   │   │   │   │   │   │   │   │   │   │   │     \u001b[0m\u001b[1m[\u001b[0m\u001b[38;2;139;0;139m'season'\u001b[0m, \u001b[38;2;139;0;139m'holiday'\u001b[0m,\n",
       "\u001b[38;2;128;128;128m│   │   │   │   │   │   │   │   │   │   │   │      \u001b[0m\u001b[38;2;139;0;139m'workingday'\u001b[0m, \u001b[38;2;139;0;139m'weather'\u001b[0m\u001b[1m]\u001b[0m\u001b[1m)\u001b[0m\u001b[1m]\u001b[0m,\n",
       "\u001b[38;2;128;128;128m│   │   │   │   │   │   │   │      \u001b[0m\u001b[38;2;0;85;0mverbose\u001b[0m=\u001b[38;2;38;98;144mFalse\u001b[0m\u001b[1m)\u001b[0m\u001b[1m)\u001b[0m,\n",
       "\u001b[38;2;128;128;128m│   │   │   │   \u001b[0m\u001b[1m(\u001b[0m\u001b[38;2;139;0;139m'LinReg'\u001b[0m,\n",
       "\u001b[38;2;128;128;128m│   │   │   │    \u001b[0m\u001b[38;2;0;17;170mLinearRegression\u001b[0m\u001b[1m(\u001b[0m\u001b[38;2;0;85;0mcopy_X\u001b[0m=\u001b[38;2;38;98;144mTrue\u001b[0m, \u001b[38;2;0;85;0mfit_intercept\u001b[0m=\u001b[38;2;38;98;144mTrue\u001b[0m, \u001b[38;2;0;85;0mn_jobs\u001b[0m=\u001b[38;2;38;98;144mNone\u001b[0m,\n",
       "\u001b[38;2;128;128;128m│   │   │   │   │   │   │   │     \u001b[0m\u001b[38;2;0;85;0mnormalize\u001b[0m=\u001b[38;2;38;98;144mFalse\u001b[0m\u001b[1m)\u001b[0m\u001b[1m)\u001b[0m\u001b[1m]\u001b[0m,\n",
       "\u001b[38;2;128;128;128m│   │    \u001b[0m\u001b[38;2;0;85;0mverbose\u001b[0m=\u001b[38;2;38;98;144mFalse\u001b[0m\u001b[1m)\u001b[0m\n"
      ]
     },
     "metadata": {},
     "output_type": "display_data"
    }
   ],
   "source": [
    "pipeline"
   ]
  },
  {
   "cell_type": "markdown",
   "metadata": {},
   "source": [
    "## Split DF into Train and Test"
   ]
  },
  {
   "cell_type": "code",
   "execution_count": 150,
   "metadata": {},
   "outputs": [],
   "source": [
    "X_train, X_test, y_train, y_test = train_test_split(X, y, \n",
    "                                    test_size = 0.2, random_state=42)"
   ]
  },
  {
   "cell_type": "code",
   "execution_count": 151,
   "metadata": {},
   "outputs": [
    {
     "data": {
      "text/html": [
       "<div>\n",
       "<style scoped>\n",
       "    .dataframe tbody tr th:only-of-type {\n",
       "        vertical-align: middle;\n",
       "    }\n",
       "\n",
       "    .dataframe tbody tr th {\n",
       "        vertical-align: top;\n",
       "    }\n",
       "\n",
       "    .dataframe thead th {\n",
       "        text-align: right;\n",
       "    }\n",
       "</style>\n",
       "<table border=\"1\" class=\"dataframe\">\n",
       "  <thead>\n",
       "    <tr style=\"text-align: right;\">\n",
       "      <th></th>\n",
       "      <th>season</th>\n",
       "      <th>holiday</th>\n",
       "      <th>workingday</th>\n",
       "      <th>weather</th>\n",
       "      <th>temp</th>\n",
       "      <th>atemp</th>\n",
       "      <th>humidity</th>\n",
       "      <th>windspeed</th>\n",
       "    </tr>\n",
       "    <tr>\n",
       "      <th>datetime</th>\n",
       "      <th></th>\n",
       "      <th></th>\n",
       "      <th></th>\n",
       "      <th></th>\n",
       "      <th></th>\n",
       "      <th></th>\n",
       "      <th></th>\n",
       "      <th></th>\n",
       "    </tr>\n",
       "  </thead>\n",
       "  <tbody>\n",
       "    <tr>\n",
       "      <th>2011-07-06 05:00:00</th>\n",
       "      <td>3</td>\n",
       "      <td>0</td>\n",
       "      <td>1</td>\n",
       "      <td>1</td>\n",
       "      <td>27.88</td>\n",
       "      <td>31.820</td>\n",
       "      <td>83</td>\n",
       "      <td>6.0032</td>\n",
       "    </tr>\n",
       "    <tr>\n",
       "      <th>2012-08-04 16:00:00</th>\n",
       "      <td>3</td>\n",
       "      <td>0</td>\n",
       "      <td>0</td>\n",
       "      <td>1</td>\n",
       "      <td>36.90</td>\n",
       "      <td>40.910</td>\n",
       "      <td>39</td>\n",
       "      <td>19.9995</td>\n",
       "    </tr>\n",
       "    <tr>\n",
       "      <th>2012-07-11 15:00:00</th>\n",
       "      <td>3</td>\n",
       "      <td>0</td>\n",
       "      <td>1</td>\n",
       "      <td>1</td>\n",
       "      <td>32.80</td>\n",
       "      <td>35.605</td>\n",
       "      <td>41</td>\n",
       "      <td>16.9979</td>\n",
       "    </tr>\n",
       "    <tr>\n",
       "      <th>2011-04-10 04:00:00</th>\n",
       "      <td>2</td>\n",
       "      <td>0</td>\n",
       "      <td>0</td>\n",
       "      <td>2</td>\n",
       "      <td>14.76</td>\n",
       "      <td>18.180</td>\n",
       "      <td>93</td>\n",
       "      <td>7.0015</td>\n",
       "    </tr>\n",
       "    <tr>\n",
       "      <th>2011-11-19 10:00:00</th>\n",
       "      <td>4</td>\n",
       "      <td>0</td>\n",
       "      <td>0</td>\n",
       "      <td>1</td>\n",
       "      <td>13.12</td>\n",
       "      <td>15.150</td>\n",
       "      <td>45</td>\n",
       "      <td>16.9979</td>\n",
       "    </tr>\n",
       "  </tbody>\n",
       "</table>\n",
       "</div>"
      ]
     },
     "execution_count": 151,
     "metadata": {},
     "output_type": "execute_result"
    }
   ],
   "source": [
    "X_train.head()"
   ]
  },
  {
   "cell_type": "markdown",
   "metadata": {},
   "source": [
    "## Fit and Run Model"
   ]
  },
  {
   "cell_type": "code",
   "execution_count": 152,
   "metadata": {},
   "outputs": [
    {
     "data": {
      "text/html": [
       "<pre style='white-space:pre;overflow-x:auto;line-height:normal'>\n",
       "<span style=\"color: #0011aa; text-decoration-color: #0011aa\">Pipeline</span><span style=\"font-weight: bold\">(</span><span style=\"color: #005500; text-decoration-color: #005500\">memory</span>=<span style=\"color: #266290; text-decoration-color: #266290\">None</span>,\n",
       "<span style=\"color: #808080; text-decoration-color: #808080\">│   │    </span><span style=\"color: #005500; text-decoration-color: #005500\">steps</span>=<span style=\"font-weight: bold\">[(</span><span style=\"color: #8b008b; text-decoration-color: #8b008b\">'preprocessor'</span>,\n",
       "<span style=\"color: #808080; text-decoration-color: #808080\">│   │   │   │    </span><span style=\"color: #0011aa; text-decoration-color: #0011aa\">ColumnTransformer</span><span style=\"font-weight: bold\">(</span><span style=\"color: #005500; text-decoration-color: #005500\">n_jobs</span>=<span style=\"color: #266290; text-decoration-color: #266290\">None</span>, <span style=\"color: #005500; text-decoration-color: #005500\">remainder</span>=<span style=\"color: #8b008b; text-decoration-color: #8b008b\">'drop'</span>,\n",
       "<span style=\"color: #808080; text-decoration-color: #808080\">│   │   │   │   │   │   │   │      </span><span style=\"color: #005500; text-decoration-color: #005500\">sparse_threshold</span>=<span style=\"color: #101010; text-decoration-color: #101010\">0.3</span>,\n",
       "<span style=\"color: #808080; text-decoration-color: #808080\">│   │   │   │   │   │   │   │      </span><span style=\"color: #005500; text-decoration-color: #005500\">transformer_weights</span>=<span style=\"color: #266290; text-decoration-color: #266290\">None</span>,\n",
       "<span style=\"color: #808080; text-decoration-color: #808080\">│   │   │   │   │   │   │   │      </span><span style=\"color: #005500; text-decoration-color: #005500\">transformers</span>=<span style=\"font-weight: bold\">[(</span><span style=\"color: #8b008b; text-decoration-color: #8b008b\">'numeric'</span>,\n",
       "<span style=\"color: #808080; text-decoration-color: #808080\">│   │   │   │   │   │   │   │   │   │   │   │     </span><span style=\"color: #0011aa; text-decoration-color: #0011aa\">Pipeline</span><span style=\"font-weight: bold\">(</span><span style=\"color: #005500; text-decoration-color: #005500\">memory</span>=<span style=\"color: #266290; text-decoration-color: #266290\">None</span>,\n",
       "<span style=\"color: #808080; text-decoration-color: #808080\">│   │   │   │   │   │   │   │   │   │   │   │   │   │      </span><span style=\"color: #005500; text-decoration-color: #005500\">steps</span>=<span style=\"font-weight: bold\">[(</span><span style=\"color: #8b008b; text-decoration-color: #8b008b\">'imputer'</span>,\n",
       "<span style=\"color: #808080; text-decoration-color: #808080\">│   │   │   │   │   │   │   │   │   │   │   │   │   │   │   │      </span><span style=\"color: #0011aa; text-decoration-color: #0011aa\">SimpleImputer</span><span style=\"font-weight: bold\">(</span><span style=\"color: #005500; text-decoration-color: #005500\">add_indicator</span>=<span style=\"color: #266290; text-decoration-color: #266290\">False</span>,\n",
       "<span style=\"color: #808080; text-decoration-color: #808080\">│   │   │   │   │   │   │   │   │   │   │   │   │   │   │   │   │   │   │   │    </span><span style=\"color: #005500; text-decoration-color: #005500\">copy</span>=<span style=\"color: #266290; text-decoration-color: #266290\">True</span>,\n",
       "<span style=\"color: #808080; text-decoration-color: #808080\">│   │   │   │   │   │   │   │   │   │   │   │   │   │   │   │   │   │   │   │    </span><span style=\"color: #005500; text-decoration-color: #005500\">fill_value</span>=<span style=\"color: #266290; text-decoration-color: #266290\">None</span>,\n",
       "<span style=\"color: #808080; text-decoration-color: #808080\">│   │   │   │   │   │   │   │   │   │   │   │   │   │   │   │   │   │   │   │    </span><span style=\"color: #005500; text-decoration-color: #005500\">missing_values</span>=<span style=\"color: #0011aa; text-decoration-color: #0011aa\">nan</span>,\n",
       "<span style=\"color: #808080; text-decoration-color: #808080\">│   │   │   │   │   │   │   │   │   │   │   │   │   │   │   │   │   │   │   │    </span><span style=\"color: #005500; text-decoration-color: #005500\">strategy</span>=<span style=\"color: #8b008b; text-decoration-color: #8b008b\">'median'</span>,\n",
       "<span style=\"color: #808080; text-decoration-color: #808080\">│   │   │   │   │   │   │   │   │   │   │   │   │   │   │   │   │   │   │   │    </span><span style=\"color: #005500; text-decoration-color: #005500\">verbose</span>=<span style=\"color: #101010; text-decoration-color: #101010\">0</span><span style=\"font-weight: bold\">))</span>,\n",
       "<span style=\"color: #808080; text-decoration-color: #808080\">│   │   │   │   │   │   │   │   │   │   │   │   │   │   │   │     </span><span style=\"font-weight: bold\">(</span><span style=\"color: #8b008b; text-decoration-color: #8b008b\">'scaler'</span>,\n",
       "<span style=\"color: #808080; text-decoration-color: #808080\">│   │   │   │   │   │   │   │   │   │   │   │   │   │   │   │      </span><span style=\"color: #0011aa; text-decoration-color: #0011aa\">StandardScaler</span><span style=\"font-weight: bold\">(</span><span style=\"color: #005500; text-decoration-color: #005500\">copy</span>=<span style=\"color: #266290; text-decoration-color: #266290\">True</span>,\n",
       "<span style=\"color: #808080; text-decoration-color: #808080\">│   │   │   │   │   │   │   │   │   │   │   │   │   │   │   │   │   │   │   │     </span>with_<span style=\"color: #808000; text-decoration-color: #808000\">...</span>\n",
       "<span style=\"color: #808080; text-decoration-color: #808080\">│   │   │   │   │   │   │   │   │   │   │   │   │   │   │   │   │   │   │   │   │      </span><span style=\"color: #005500; text-decoration-color: #005500\">inv_kw_args</span>=<span style=\"color: #266290; text-decoration-color: #266290\">None</span>,\n",
       "<span style=\"color: #808080; text-decoration-color: #808080\">│   │   │   │   │   │   │   │   │   │   │   │   │   │   │   │   │   │   │   │   │      </span><span style=\"color: #005500; text-decoration-color: #005500\">inverse_func</span>=<span style=\"color: #266290; text-decoration-color: #266290\">None</span>,\n",
       "<span style=\"color: #808080; text-decoration-color: #808080\">│   │   │   │   │   │   │   │   │   │   │   │   │   │   │   │   │   │   │   │   │      </span><span style=\"color: #005500; text-decoration-color: #005500\">kw_args</span>=<span style=\"color: #266290; text-decoration-color: #266290\">None</span>,\n",
       "<span style=\"color: #808080; text-decoration-color: #808080\">│   │   │   │   │   │   │   │   │   │   │   │   │   │   │   │   │   │   │   │   │      </span><span style=\"color: #005500; text-decoration-color: #005500\">validate</span>=<span style=\"color: #266290; text-decoration-color: #266290\">False</span><span style=\"font-weight: bold\">))</span>,\n",
       "<span style=\"color: #808080; text-decoration-color: #808080\">│   │   │   │   │   │   │   │   │   │   │   │   │   │   │   │     </span><span style=\"font-weight: bold\">(</span><span style=\"color: #8b008b; text-decoration-color: #8b008b\">'onehot'</span>,\n",
       "<span style=\"color: #808080; text-decoration-color: #808080\">│   │   │   │   │   │   │   │   │   │   │   │   │   │   │   │      </span><span style=\"color: #0011aa; text-decoration-color: #0011aa\">OneHotEncoder</span><span style=\"font-weight: bold\">(</span><span style=\"color: #005500; text-decoration-color: #005500\">categories</span>=<span style=\"color: #8b008b; text-decoration-color: #8b008b\">'auto'</span>,\n",
       "<span style=\"color: #808080; text-decoration-color: #808080\">│   │   │   │   │   │   │   │   │   │   │   │   │   │   │   │   │   │   │   │    </span><span style=\"color: #005500; text-decoration-color: #005500\">drop</span>=<span style=\"color: #266290; text-decoration-color: #266290\">None</span>,\n",
       "<span style=\"color: #808080; text-decoration-color: #808080\">│   │   │   │   │   │   │   │   │   │   │   │   │   │   │   │   │   │   │   │    </span><span style=\"color: #005500; text-decoration-color: #005500\">dtype</span>=<span style=\"font-weight: bold\">&lt;</span><span style=\"color: #0011aa; text-decoration-color: #0011aa\">class</span><span style=\"color: #000000; text-decoration-color: #000000\"> </span><span style=\"color: #8b008b; text-decoration-color: #8b008b\">'numpy.float64'</span><span style=\"font-weight: bold\">&gt;</span>,\n",
       "<span style=\"color: #808080; text-decoration-color: #808080\">│   │   │   │   │   │   │   │   │   │   │   │   │   │   │   │   │   │   │   │    </span><span style=\"color: #005500; text-decoration-color: #005500\">handle_unknown</span>=<span style=\"color: #8b008b; text-decoration-color: #8b008b\">'ignore'</span>,\n",
       "<span style=\"color: #808080; text-decoration-color: #808080\">│   │   │   │   │   │   │   │   │   │   │   │   │   │   │   │   │   │   │   │    </span><span style=\"color: #005500; text-decoration-color: #005500\">sparse</span>=<span style=\"color: #266290; text-decoration-color: #266290\">True</span><span style=\"font-weight: bold\">))]</span>,\n",
       "<span style=\"color: #808080; text-decoration-color: #808080\">│   │   │   │   │   │   │   │   │   │   │   │   │   │      </span><span style=\"color: #005500; text-decoration-color: #005500\">verbose</span>=<span style=\"color: #266290; text-decoration-color: #266290\">False</span><span style=\"font-weight: bold\">)</span>,\n",
       "<span style=\"color: #808080; text-decoration-color: #808080\">│   │   │   │   │   │   │   │   │   │   │   │     </span><span style=\"font-weight: bold\">[</span><span style=\"color: #8b008b; text-decoration-color: #8b008b\">'season'</span>, <span style=\"color: #8b008b; text-decoration-color: #8b008b\">'holiday'</span>,\n",
       "<span style=\"color: #808080; text-decoration-color: #808080\">│   │   │   │   │   │   │   │   │   │   │   │      </span><span style=\"color: #8b008b; text-decoration-color: #8b008b\">'workingday'</span>, <span style=\"color: #8b008b; text-decoration-color: #8b008b\">'weather'</span><span style=\"font-weight: bold\">])]</span>,\n",
       "<span style=\"color: #808080; text-decoration-color: #808080\">│   │   │   │   │   │   │   │      </span><span style=\"color: #005500; text-decoration-color: #005500\">verbose</span>=<span style=\"color: #266290; text-decoration-color: #266290\">False</span><span style=\"font-weight: bold\">))</span>,\n",
       "<span style=\"color: #808080; text-decoration-color: #808080\">│   │   │   │   </span><span style=\"font-weight: bold\">(</span><span style=\"color: #8b008b; text-decoration-color: #8b008b\">'LinReg'</span>,\n",
       "<span style=\"color: #808080; text-decoration-color: #808080\">│   │   │   │    </span><span style=\"color: #0011aa; text-decoration-color: #0011aa\">LinearRegression</span><span style=\"font-weight: bold\">(</span><span style=\"color: #005500; text-decoration-color: #005500\">copy_X</span>=<span style=\"color: #266290; text-decoration-color: #266290\">True</span>, <span style=\"color: #005500; text-decoration-color: #005500\">fit_intercept</span>=<span style=\"color: #266290; text-decoration-color: #266290\">True</span>, <span style=\"color: #005500; text-decoration-color: #005500\">n_jobs</span>=<span style=\"color: #266290; text-decoration-color: #266290\">None</span>,\n",
       "<span style=\"color: #808080; text-decoration-color: #808080\">│   │   │   │   │   │   │   │     </span><span style=\"color: #005500; text-decoration-color: #005500\">normalize</span>=<span style=\"color: #266290; text-decoration-color: #266290\">False</span><span style=\"font-weight: bold\">))]</span>,\n",
       "<span style=\"color: #808080; text-decoration-color: #808080\">│   │    </span><span style=\"color: #005500; text-decoration-color: #005500\">verbose</span>=<span style=\"color: #266290; text-decoration-color: #266290\">False</span><span style=\"font-weight: bold\">)</span>\n",
       "</pre>"
      ],
      "text/plain": [
       "\n",
       "\u001b[38;2;0;17;170mPipeline\u001b[0m\u001b[1m(\u001b[0m\u001b[38;2;0;85;0mmemory\u001b[0m=\u001b[38;2;38;98;144mNone\u001b[0m,\n",
       "\u001b[38;2;128;128;128m│   │    \u001b[0m\u001b[38;2;0;85;0msteps\u001b[0m=\u001b[1m[\u001b[0m\u001b[1m(\u001b[0m\u001b[38;2;139;0;139m'preprocessor'\u001b[0m,\n",
       "\u001b[38;2;128;128;128m│   │   │   │    \u001b[0m\u001b[38;2;0;17;170mColumnTransformer\u001b[0m\u001b[1m(\u001b[0m\u001b[38;2;0;85;0mn_jobs\u001b[0m=\u001b[38;2;38;98;144mNone\u001b[0m, \u001b[38;2;0;85;0mremainder\u001b[0m=\u001b[38;2;139;0;139m'drop'\u001b[0m,\n",
       "\u001b[38;2;128;128;128m│   │   │   │   │   │   │   │      \u001b[0m\u001b[38;2;0;85;0msparse_threshold\u001b[0m=\u001b[38;2;16;16;16m0\u001b[0m\u001b[38;2;16;16;16m.3\u001b[0m,\n",
       "\u001b[38;2;128;128;128m│   │   │   │   │   │   │   │      \u001b[0m\u001b[38;2;0;85;0mtransformer_weights\u001b[0m=\u001b[38;2;38;98;144mNone\u001b[0m,\n",
       "\u001b[38;2;128;128;128m│   │   │   │   │   │   │   │      \u001b[0m\u001b[38;2;0;85;0mtransformers\u001b[0m=\u001b[1m[\u001b[0m\u001b[1m(\u001b[0m\u001b[38;2;139;0;139m'numeric'\u001b[0m,\n",
       "\u001b[38;2;128;128;128m│   │   │   │   │   │   │   │   │   │   │   │     \u001b[0m\u001b[38;2;0;17;170mPipeline\u001b[0m\u001b[1m(\u001b[0m\u001b[38;2;0;85;0mmemory\u001b[0m=\u001b[38;2;38;98;144mNone\u001b[0m,\n",
       "\u001b[38;2;128;128;128m│   │   │   │   │   │   │   │   │   │   │   │   │   │      \u001b[0m\u001b[38;2;0;85;0msteps\u001b[0m=\u001b[1m[\u001b[0m\u001b[1m(\u001b[0m\u001b[38;2;139;0;139m'imputer'\u001b[0m,\n",
       "\u001b[38;2;128;128;128m│   │   │   │   │   │   │   │   │   │   │   │   │   │   │   │      \u001b[0m\u001b[38;2;0;17;170mSimpleImputer\u001b[0m\u001b[1m(\u001b[0m\u001b[38;2;0;85;0madd_indicator\u001b[0m=\u001b[38;2;38;98;144mFalse\u001b[0m,\n",
       "\u001b[38;2;128;128;128m│   │   │   │   │   │   │   │   │   │   │   │   │   │   │   │   │   │   │   │    \u001b[0m\u001b[38;2;0;85;0mcopy\u001b[0m=\u001b[38;2;38;98;144mTrue\u001b[0m,\n",
       "\u001b[38;2;128;128;128m│   │   │   │   │   │   │   │   │   │   │   │   │   │   │   │   │   │   │   │    \u001b[0m\u001b[38;2;0;85;0mfill_value\u001b[0m=\u001b[38;2;38;98;144mNone\u001b[0m,\n",
       "\u001b[38;2;128;128;128m│   │   │   │   │   │   │   │   │   │   │   │   │   │   │   │   │   │   │   │    \u001b[0m\u001b[38;2;0;85;0mmissing_values\u001b[0m=\u001b[38;2;0;17;170mnan\u001b[0m,\n",
       "\u001b[38;2;128;128;128m│   │   │   │   │   │   │   │   │   │   │   │   │   │   │   │   │   │   │   │    \u001b[0m\u001b[38;2;0;85;0mstrategy\u001b[0m=\u001b[38;2;139;0;139m'median'\u001b[0m,\n",
       "\u001b[38;2;128;128;128m│   │   │   │   │   │   │   │   │   │   │   │   │   │   │   │   │   │   │   │    \u001b[0m\u001b[38;2;0;85;0mverbose\u001b[0m=\u001b[38;2;16;16;16m0\u001b[0m\u001b[1m)\u001b[0m\u001b[1m)\u001b[0m,\n",
       "\u001b[38;2;128;128;128m│   │   │   │   │   │   │   │   │   │   │   │   │   │   │   │     \u001b[0m\u001b[1m(\u001b[0m\u001b[38;2;139;0;139m'scaler'\u001b[0m,\n",
       "\u001b[38;2;128;128;128m│   │   │   │   │   │   │   │   │   │   │   │   │   │   │   │      \u001b[0m\u001b[38;2;0;17;170mStandardScaler\u001b[0m\u001b[1m(\u001b[0m\u001b[38;2;0;85;0mcopy\u001b[0m=\u001b[38;2;38;98;144mTrue\u001b[0m,\n",
       "\u001b[38;2;128;128;128m│   │   │   │   │   │   │   │   │   │   │   │   │   │   │   │   │   │   │   │     \u001b[0mwith_\u001b[33m...\u001b[0m\n",
       "\u001b[38;2;128;128;128m│   │   │   │   │   │   │   │   │   │   │   │   │   │   │   │   │   │   │   │   │      \u001b[0m\u001b[38;2;0;85;0minv_kw_args\u001b[0m=\u001b[38;2;38;98;144mNone\u001b[0m,\n",
       "\u001b[38;2;128;128;128m│   │   │   │   │   │   │   │   │   │   │   │   │   │   │   │   │   │   │   │   │      \u001b[0m\u001b[38;2;0;85;0minverse_func\u001b[0m=\u001b[38;2;38;98;144mNone\u001b[0m,\n",
       "\u001b[38;2;128;128;128m│   │   │   │   │   │   │   │   │   │   │   │   │   │   │   │   │   │   │   │   │      \u001b[0m\u001b[38;2;0;85;0mkw_args\u001b[0m=\u001b[38;2;38;98;144mNone\u001b[0m,\n",
       "\u001b[38;2;128;128;128m│   │   │   │   │   │   │   │   │   │   │   │   │   │   │   │   │   │   │   │   │      \u001b[0m\u001b[38;2;0;85;0mvalidate\u001b[0m=\u001b[38;2;38;98;144mFalse\u001b[0m\u001b[1m)\u001b[0m\u001b[1m)\u001b[0m,\n",
       "\u001b[38;2;128;128;128m│   │   │   │   │   │   │   │   │   │   │   │   │   │   │   │     \u001b[0m\u001b[1m(\u001b[0m\u001b[38;2;139;0;139m'onehot'\u001b[0m,\n",
       "\u001b[38;2;128;128;128m│   │   │   │   │   │   │   │   │   │   │   │   │   │   │   │      \u001b[0m\u001b[38;2;0;17;170mOneHotEncoder\u001b[0m\u001b[1m(\u001b[0m\u001b[38;2;0;85;0mcategories\u001b[0m=\u001b[38;2;139;0;139m'auto'\u001b[0m,\n",
       "\u001b[38;2;128;128;128m│   │   │   │   │   │   │   │   │   │   │   │   │   │   │   │   │   │   │   │    \u001b[0m\u001b[38;2;0;85;0mdrop\u001b[0m=\u001b[38;2;38;98;144mNone\u001b[0m,\n",
       "\u001b[38;2;128;128;128m│   │   │   │   │   │   │   │   │   │   │   │   │   │   │   │   │   │   │   │    \u001b[0m\u001b[38;2;0;85;0mdtype\u001b[0m=\u001b[1m<\u001b[0m\u001b[38;2;0;17;170mclass\u001b[0m\u001b[39m \u001b[0m\u001b[38;2;139;0;139m'numpy.float64'\u001b[0m\u001b[1m>\u001b[0m,\n",
       "\u001b[38;2;128;128;128m│   │   │   │   │   │   │   │   │   │   │   │   │   │   │   │   │   │   │   │    \u001b[0m\u001b[38;2;0;85;0mhandle_unknown\u001b[0m=\u001b[38;2;139;0;139m'ignore'\u001b[0m,\n",
       "\u001b[38;2;128;128;128m│   │   │   │   │   │   │   │   │   │   │   │   │   │   │   │   │   │   │   │    \u001b[0m\u001b[38;2;0;85;0msparse\u001b[0m=\u001b[38;2;38;98;144mTrue\u001b[0m\u001b[1m)\u001b[0m\u001b[1m)\u001b[0m\u001b[1m]\u001b[0m,\n",
       "\u001b[38;2;128;128;128m│   │   │   │   │   │   │   │   │   │   │   │   │   │      \u001b[0m\u001b[38;2;0;85;0mverbose\u001b[0m=\u001b[38;2;38;98;144mFalse\u001b[0m\u001b[1m)\u001b[0m,\n",
       "\u001b[38;2;128;128;128m│   │   │   │   │   │   │   │   │   │   │   │     \u001b[0m\u001b[1m[\u001b[0m\u001b[38;2;139;0;139m'season'\u001b[0m, \u001b[38;2;139;0;139m'holiday'\u001b[0m,\n",
       "\u001b[38;2;128;128;128m│   │   │   │   │   │   │   │   │   │   │   │      \u001b[0m\u001b[38;2;139;0;139m'workingday'\u001b[0m, \u001b[38;2;139;0;139m'weather'\u001b[0m\u001b[1m]\u001b[0m\u001b[1m)\u001b[0m\u001b[1m]\u001b[0m,\n",
       "\u001b[38;2;128;128;128m│   │   │   │   │   │   │   │      \u001b[0m\u001b[38;2;0;85;0mverbose\u001b[0m=\u001b[38;2;38;98;144mFalse\u001b[0m\u001b[1m)\u001b[0m\u001b[1m)\u001b[0m,\n",
       "\u001b[38;2;128;128;128m│   │   │   │   \u001b[0m\u001b[1m(\u001b[0m\u001b[38;2;139;0;139m'LinReg'\u001b[0m,\n",
       "\u001b[38;2;128;128;128m│   │   │   │    \u001b[0m\u001b[38;2;0;17;170mLinearRegression\u001b[0m\u001b[1m(\u001b[0m\u001b[38;2;0;85;0mcopy_X\u001b[0m=\u001b[38;2;38;98;144mTrue\u001b[0m, \u001b[38;2;0;85;0mfit_intercept\u001b[0m=\u001b[38;2;38;98;144mTrue\u001b[0m, \u001b[38;2;0;85;0mn_jobs\u001b[0m=\u001b[38;2;38;98;144mNone\u001b[0m,\n",
       "\u001b[38;2;128;128;128m│   │   │   │   │   │   │   │     \u001b[0m\u001b[38;2;0;85;0mnormalize\u001b[0m=\u001b[38;2;38;98;144mFalse\u001b[0m\u001b[1m)\u001b[0m\u001b[1m)\u001b[0m\u001b[1m]\u001b[0m,\n",
       "\u001b[38;2;128;128;128m│   │    \u001b[0m\u001b[38;2;0;85;0mverbose\u001b[0m=\u001b[38;2;38;98;144mFalse\u001b[0m\u001b[1m)\u001b[0m\n"
      ]
     },
     "metadata": {},
     "output_type": "display_data"
    }
   ],
   "source": [
    "#train\n",
    "pipeline.fit(X_train,y_train)"
   ]
  },
  {
   "cell_type": "code",
   "execution_count": 153,
   "metadata": {},
   "outputs": [
    {
     "data": {
      "text/html": [
       "<pre style='white-space:pre;overflow-x:auto;line-height:normal'><span style=\"font-weight: bold\">(</span><span style=\"color: #101010; text-decoration-color: #101010\">8708</span>, <span style=\"color: #101010; text-decoration-color: #101010\">65</span><span style=\"font-weight: bold\">)</span>\n",
       "</pre>"
      ],
      "text/plain": [
       "\u001b[1m(\u001b[0m\u001b[38;2;16;16;16m8708\u001b[0m, \u001b[38;2;16;16;16m65\u001b[0m\u001b[1m)\u001b[0m\n"
      ]
     },
     "metadata": {},
     "output_type": "display_data"
    }
   ],
   "source": [
    "preprocessor.fit_transform(X_train).shape  #necessary??"
   ]
  },
  {
   "cell_type": "markdown",
   "metadata": {},
   "source": [
    "## Check Performance"
   ]
  },
  {
   "cell_type": "code",
   "execution_count": 154,
   "metadata": {},
   "outputs": [
    {
     "data": {
      "text/html": [
       "<pre style='white-space:pre;overflow-x:auto;line-height:normal'>\n",
       "<span style=\"color: #0011aa; text-decoration-color: #0011aa\">array</span><span style=\"font-weight: bold\">([</span><span style=\"color: #101010; text-decoration-color: #101010\">229.3597824</span> ,  <span style=\"color: #101010; text-decoration-color: #101010\">15.96732792</span>, <span style=\"color: #101010; text-decoration-color: #101010\">349.40097508</span>, <span style=\"color: #808000; text-decoration-color: #808000\">...</span>, <span style=\"color: #101010; text-decoration-color: #101010\">286.59679332</span>,\n",
       "<span style=\"color: #808080; text-decoration-color: #808080\">│      </span><span style=\"color: #101010; text-decoration-color: #101010\">-33.50005026</span>, <span style=\"color: #101010; text-decoration-color: #101010\">266.78655819</span><span style=\"font-weight: bold\">])</span>\n",
       "</pre>"
      ],
      "text/plain": [
       "\n",
       "\u001b[38;2;0;17;170marray\u001b[0m\u001b[1m(\u001b[0m\u001b[1m[\u001b[0m\u001b[38;2;16;16;16m229.3597824\u001b[0m ,  \u001b[38;2;16;16;16m15.96732792\u001b[0m, \u001b[38;2;16;16;16m349.40097508\u001b[0m, \u001b[33m...\u001b[0m, \u001b[38;2;16;16;16m286.59679332\u001b[0m,\n",
       "\u001b[38;2;128;128;128m│      \u001b[0m\u001b[38;2;16;16;16m-33.50005026\u001b[0m, \u001b[38;2;16;16;16m266.78655819\u001b[0m\u001b[1m]\u001b[0m\u001b[1m)\u001b[0m\n"
      ]
     },
     "metadata": {},
     "output_type": "display_data"
    }
   ],
   "source": [
    "y_pred = pipeline.predict(X_test)\n",
    "y_pred"
   ]
  },
  {
   "cell_type": "code",
   "execution_count": 155,
   "metadata": {},
   "outputs": [
    {
     "data": {
      "text/html": [
       "<pre style='white-space:pre;overflow-x:auto;line-height:normal'>\n",
       "<span style=\"color: #0011aa; text-decoration-color: #0011aa\">array</span><span style=\"font-weight: bold\">([</span><span style=\"color: #101010; text-decoration-color: #101010\">229.3597824</span> ,  <span style=\"color: #101010; text-decoration-color: #101010\">15.96732792</span>, <span style=\"color: #101010; text-decoration-color: #101010\">349.40097508</span>, <span style=\"color: #808000; text-decoration-color: #808000\">...</span>, <span style=\"color: #101010; text-decoration-color: #101010\">286.59679332</span>,\n",
       "<span style=\"color: #808080; text-decoration-color: #808080\">│   │    </span><span style=\"color: #101010; text-decoration-color: #101010\">0</span>.        , <span style=\"color: #101010; text-decoration-color: #101010\">266.78655819</span><span style=\"font-weight: bold\">])</span>\n",
       "</pre>"
      ],
      "text/plain": [
       "\n",
       "\u001b[38;2;0;17;170marray\u001b[0m\u001b[1m(\u001b[0m\u001b[1m[\u001b[0m\u001b[38;2;16;16;16m229.3597824\u001b[0m ,  \u001b[38;2;16;16;16m15.96732792\u001b[0m, \u001b[38;2;16;16;16m349.40097508\u001b[0m, \u001b[33m...\u001b[0m, \u001b[38;2;16;16;16m286.59679332\u001b[0m,\n",
       "\u001b[38;2;128;128;128m│   │    \u001b[0m\u001b[38;2;16;16;16m0\u001b[0m.        , \u001b[38;2;16;16;16m266.78655819\u001b[0m\u001b[1m]\u001b[0m\u001b[1m)\u001b[0m\n"
      ]
     },
     "metadata": {},
     "output_type": "display_data"
    }
   ],
   "source": [
    "y_pred[y_pred<0] = 0\n",
    "y_pred"
   ]
  },
  {
   "cell_type": "code",
   "execution_count": 156,
   "metadata": {},
   "outputs": [],
   "source": [
    "y_pred_series=pd.Series(y_pred)"
   ]
  },
  {
   "cell_type": "code",
   "execution_count": 163,
   "metadata": {},
   "outputs": [
    {
     "name": "stdout",
     "output_type": "stream",
     "text": [
      "Training score: 1.190801094399844\n"
     ]
    }
   ],
   "source": [
    "test_score = mean_squared_log_error(y_test, y_pred) #equals mean_squared_log_error(y_test,y_pred2,squared=False)\n",
    "print(f'Training score: {test_score}')\n",
    "\n",
    "#Defintion of MSLE:\n",
    "#https://peltarion.com/knowledge-center/modeling-view/build-an-ai-model/loss-functions/mean-squared-logarithmic-error-(msle)\n",
    "#cares more abput the percentual difference than the absolute difference\n",
    "#weights underestimates more than overestimates"
   ]
  },
  {
   "cell_type": "code",
   "execution_count": 164,
   "metadata": {},
   "outputs": [
    {
     "data": {
      "text/html": [
       "<pre style='white-space:pre;overflow-x:auto;line-height:normal'><span style=\"color: #101010; text-decoration-color: #101010\">1.0912383307050042</span>\n",
       "</pre>"
      ],
      "text/plain": [
       "\u001b[38;2;16;16;16m1.0912383307050042\u001b[0m\n"
      ]
     },
     "metadata": {},
     "output_type": "display_data"
    }
   ],
   "source": [
    "np.sqrt(mean_squared_log_error(y_test,y_pred))#,squared=False)"
   ]
  },
  {
   "cell_type": "markdown",
   "metadata": {},
   "source": [
    "# Cross-Validation"
   ]
  },
  {
   "cell_type": "code",
   "execution_count": null,
   "metadata": {},
   "outputs": [],
   "source": [
    "cross_acc = cross_val_score(estimator=RandomForestRegressor(), # estimator: # the model you want to evaluate\n",
    "                            X=X_train,                           # the training input data/features\n",
    "                            y=y_train,                           # the training output data/target  \n",
    "                            cv=5,                               # number of cross validation datasets/folds  \n",
    "                     https://peltarion.com/knowledge-center/modeling-view/build-an-ai-model/loss-functions/mean-squared-logarithmic-error-(msle)       scoring='neg_mean_squared_error'                  # evaluation metric \n",
    "                            ) "
   ]
  },
  {
   "cell_type": "code",
   "execution_count": null,
   "metadata": {},
   "outputs": [],
   "source": [
    "# these are the validation scores for the k fitted models in cross validation\n",
    "cross_acc"
   ]
  },
  {
   "cell_type": "code",
   "execution_count": null,
   "metadata": {},
   "outputs": [],
   "source": [
    "cross_acc.mean() "
   ]
  },
  {
   "cell_type": "code",
   "execution_count": null,
   "metadata": {},
   "outputs": [],
   "source": [
    "cross_acc.std()"
   ]
  },
  {
   "cell_type": "markdown",
   "metadata": {},
   "source": [
    "# Hyperparameter - Tuning"
   ]
  },
  {
   "cell_type": "code",
   "execution_count": null,
   "metadata": {},
   "outputs": [],
   "source": [
    "#Let's find best hyperparameters for current model"
   ]
  },
  {
   "cell_type": "code",
   "execution_count": null,
   "metadata": {},
   "outputs": [],
   "source": [
    "RandomForestRegressor().get_params()"
   ]
  },
  {
   "cell_type": "code",
   "execution_count": null,
   "metadata": {},
   "outputs": [],
   "source": [
    "# define our hyperparameters to combine, 5*4*3 = 60 combinations of hyperparamters, for each combination we ate fitting\n",
    "# k=5 models\n",
    "\n",
    "# python dict\n",
    "\n",
    "hyperparam_grid = {\n",
    "    'max_depth': [3, 5, 10, 20, 31], \n",
    "    'n_estimators': [5, 10, 30, 50],\n",
    "    'min_samples_leaf': [5, 10, 20]\n",
    "}"
   ]
  },
  {
   "cell_type": "code",
   "execution_count": null,
   "metadata": {},
   "outputs": [],
   "source": [
    "grid_cv = GridSearchCV(estimator=RandomForestRegressor(),            # unfitted model/estimator\n",
    "                       param_grid=hyperparam_grid,                    # hyperparameters dict\n",
    "                       cv=5,                                          # number of folds, k\n",
    "                       scoring='neg_mean_squared_error')   "
   ]
  },
  {
   "cell_type": "code",
   "execution_count": null,
   "metadata": {},
   "outputs": [],
   "source": [
    "# fit all models with all the different hyperparamters\n",
    "grid_cv.fit(X_train, y_train)"
   ]
  },
  {
   "cell_type": "markdown",
   "metadata": {},
   "source": [
    "# Evaluation"
   ]
  },
  {
   "cell_type": "code",
   "execution_count": null,
   "metadata": {},
   "outputs": [],
   "source": []
  }
 ],
 "metadata": {
  "kernelspec": {
   "display_name": "Python 3",
   "language": "python",
   "name": "python3"
  },
  "language_info": {
   "codemirror_mode": {
    "name": "ipython",
    "version": 3
   },
   "file_extension": ".py",
   "mimetype": "text/x-python",
   "name": "python",
   "nbconvert_exporter": "python",
   "pygments_lexer": "ipython3",
   "version": "3.7.6"
  }
 },
 "nbformat": 4,
 "nbformat_minor": 4
}
