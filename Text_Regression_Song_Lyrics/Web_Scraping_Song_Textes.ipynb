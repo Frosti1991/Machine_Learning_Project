{
 "cells": [
  {
   "cell_type": "markdown",
   "metadata": {},
   "source": [
    "# Import libraries"
   ]
  },
  {
   "cell_type": "code",
   "execution_count": 3,
   "metadata": {},
   "outputs": [],
   "source": [
    "import requests\n",
    "import bs4\n",
    "import os\n",
    "import time\n",
    "import re"
   ]
  },
  {
   "cell_type": "markdown",
   "metadata": {},
   "source": [
    "# define necessary functions"
   ]
  },
  {
   "cell_type": "markdown",
   "metadata": {},
   "source": [
    "## Does Website exists?"
   ]
  },
  {
   "cell_type": "code",
   "execution_count": 10,
   "metadata": {},
   "outputs": [],
   "source": [
    "def existing_url(res):\n",
    "\n",
    "    if res.status_code!=200: #if not 200, there is any error (server, host,...)\n",
    "        return 'No lyrics'\n",
    "    else:\n",
    "        #if response is 200,do the soup\n",
    "        soup=bs4.BeautifulSoup(res.text, 'lxml')\n",
    "        soup_text=soup.select_one('div>hgroup>h2').text\n",
    "        #already examined error text\n",
    "        error_text=\"We couldn't find any artists matching your query.\"\n",
    "        #print(soup_text)\n",
    "        if soup_text.lower()==error_text.lower():\n",
    "            return 'Page not exists'       \n",
    "    \n",
    "    return 'exists'"
   ]
  },
  {
   "cell_type": "code",
   "execution_count": 5,
   "metadata": {},
   "outputs": [
    {
     "name": "stdout",
     "output_type": "stream",
     "text": [
      "We couldn't find any artists matching your query.\n"
     ]
    },
    {
     "data": {
      "text/plain": [
       "'Page not exists'"
      ]
     },
     "execution_count": 5,
     "metadata": {},
     "output_type": "execute_result"
    }
   ],
   "source": [
    "#url='https://www.lyrics.com/lyric/36082255/Roxette/The+Look'\n",
    "url='https://www.lyrics.com/artist/hudasldbsajdasldas'\n",
    "#exist=existing_url(url)\n",
    "#exist\n",
    "res=requests.get(url)\n",
    "#soup=bs4.BeautifulSoup(res.text, 'lxml')\n",
    "#soup_text=soup.select_one('div>hgroup>h2')\n",
    "#soup_text.text\n",
    "exist=existing_url(res)\n",
    "exist"
   ]
  },
  {
   "cell_type": "markdown",
   "metadata": {},
   "source": [
    "## double_handling"
   ]
  },
  {
   "cell_type": "code",
   "execution_count": 6,
   "metadata": {},
   "outputs": [],
   "source": [
    "def double_handling(res,title_links):\n",
    "    soup=bs4.BeautifulSoup(res.text, 'lxml')\n",
    "    song_select=soup.select('td.tal.qx>strong>a')#[0:20]\n",
    "    print(len(song_select))\n",
    "    \n",
    "    for song in song_select:\n",
    "        #1. Check ( and [ and split it:\n",
    "        title=re.split('\\s\\(|\\s\\[|(\\s|)[\\?!]',song.text)[0].lower()\n",
    "        #print(title)\n",
    "        #2. avoid doubles by \n",
    "        if any(title in inner_list for inner_list in title_links)==False:\n",
    "            link=song['href'].replace('/','',1)\n",
    "            #rint(link)\n",
    "            add_pair=[title,link]\n",
    "            #print(add_pair)\n",
    "            title_links.append(add_pair)\n",
    "            #print(title_links)\n",
    "            \n",
    "    \n",
    "    return title_links"
   ]
  },
  {
   "cell_type": "code",
   "execution_count": 7,
   "metadata": {},
   "outputs": [
    {
     "name": "stdout",
     "output_type": "stream",
     "text": [
      "1510\n",
      "185\n"
     ]
    }
   ],
   "source": [
    "url='https://www.lyrics.com/artist/Roxette/5312'\n",
    "#exist=existing_url(url)\n",
    "#exist\n",
    "res=requests.get(url)\n",
    "liste=[]\n",
    "liste=double_handling(res,liste)\n",
    "print(len(liste))\n",
    "\n"
   ]
  },
  {
   "cell_type": "markdown",
   "metadata": {},
   "source": [
    "## download lyrics, save in folder"
   ]
  },
  {
   "cell_type": "code",
   "execution_count": 18,
   "metadata": {},
   "outputs": [],
   "source": [
    "def download_save(newpath,url,title_links,start,end):\n",
    "    print(newpath)\n",
    "    mislead=0\n",
    "    download=0\n",
    "    for song in title_links[start:end]:\n",
    "        time.sleep(1)\n",
    "        lyric_url=url+song[1] #fragment of url\n",
    "        response = requests.get(lyric_url)\n",
    "        #do the soup\n",
    "        soup = bs4.BeautifulSoup(response.text, 'lxml')\n",
    "        #print(type(soup))\n",
    "        try: #some songs are not linked with lyrics\n",
    "            lyric_text=soup.find('pre', {'id': 'lyric-body-text'}).text\n",
    "        except AttributeError: #if the link actually doesn't contain lyrics\n",
    "            print(f'Link of song {song[0]} does not lead to any lyrics!')\n",
    "            mislead+=1\n",
    "        else: \n",
    "            #print(lyric_text)\n",
    "            print(song[0])\n",
    "            title = re.sub('[\\W]','_',song[0]) #song[0] is title of the song\n",
    "            print(title)\n",
    "            #print(title,song[0])\n",
    "\n",
    "            if not os.path.exists(newpath):  #creates folder if necessary\n",
    "                os.makedirs(newpath)\n",
    "            with open(newpath +'/'+title + '.txt', 'w') as response_file:  #saves the lyric-files\n",
    "                response_file.write(lyric_text)\n",
    "            print(title_links.index(song))\n",
    "            download+=1\n",
    "    \n",
    "    print(f'The number of misleading links: {mislead}')\n",
    "    print(f'The number of downloaded files: {download}')\n",
    "    print(f'The number of all tried songs: {end-start}')"
   ]
  },
  {
   "cell_type": "code",
   "execution_count": 19,
   "metadata": {},
   "outputs": [
    {
     "data": {
      "text/plain": [
       "'the_voice'"
      ]
     },
     "execution_count": 19,
     "metadata": {},
     "output_type": "execute_result"
    }
   ],
   "source": [
    "title = re.sub('[\\W]','_','the voice') #song[0] is title of the song\n",
    "title"
   ]
  },
  {
   "cell_type": "markdown",
   "metadata": {},
   "source": [
    "# Run the Scraping Program"
   ]
  },
  {
   "cell_type": "code",
   "execution_count": 25,
   "metadata": {},
   "outputs": [
    {
     "name": "stdout",
     "output_type": "stream",
     "text": [
      "The lyrics of which artist you would like to scrape?Amy Winehouse\n",
      "https://www.lyrics.com/artist/amy winehouse\n",
      "200\n",
      "exists\n",
      "1054\n",
      "amy winehouse has just 89 different songs instead 100. Please enter another artist.\n",
      "The lyrics of which artist you would like to scrape?Roxette\n",
      "https://www.lyrics.com/artist/roxette\n",
      "200\n",
      "exists\n",
      "1510\n",
      "roxette has 185 different songs. Congrats!\n",
      "Insert the # of the FIRST song you want to download10\n",
      "Insert the # of the LAST song you want to download15\n",
      "The lyrics of the 5 songs of roxette are going to be saved now.\n",
      "/home/christoph/OneDrive/Fortbildung_Weiterbildung_Arbeit/2022_Spiced_Data_Science/Data_Science_Course/Working_Area/04_week/00_Project/roxette_test2_data\n",
      "almost unreal\n",
      "almost_unreal\n",
      "10\n",
      "Link of song the big l does not lead to any lyrics!\n",
      "Link of song the big l. does not lead to any lyrics!\n",
      "Link of song crash does not lead to any lyrics!\n",
      "june afternoon\n",
      "june_afternoon\n",
      "14\n",
      "The number of misleading links: 3\n",
      "The number of downloaded files: 2\n",
      "The number of all tried songs: 5\n",
      "The lyrics of which artist you would like to scrape?Backstreet Boys\n",
      "https://www.lyrics.com/artist/backstreet boys\n",
      "200\n",
      "exists\n",
      "1820\n",
      "backstreet boys has 214 different songs. Congrats!\n",
      "Insert the # of the FIRST song you want to download0\n",
      "Insert the # of the LAST song you want to download1\n",
      "The lyrics of the 1 songs of backstreet boys are going to be saved now.\n",
      "/home/christoph/OneDrive/Fortbildung_Weiterbildung_Arbeit/2022_Spiced_Data_Science/Data_Science_Course/Working_Area/04_week/00_Project/backstreet boys_test2_data\n",
      "don't go breaking my heart\n",
      "don_t_go_breaking_my_heart\n",
      "0\n",
      "The number of misleading links: 0\n",
      "The number of downloaded files: 1\n",
      "The number of all tried songs: 1\n"
     ]
    }
   ],
   "source": [
    "url='https://www.lyrics.com/'\n",
    "path=os.getcwd()\n",
    "artist_sum=0\n",
    "while artist_sum<2:\n",
    "    title_links=[]\n",
    "    \n",
    "    #0. Input-Assignemt for which Interpret\n",
    "    artist=input('The lyrics of which artist you would like to scrape?')\n",
    "    artist=artist.lower()\n",
    "    artist_url=url+'artist/'+artist\n",
    "    print(artist_url)\n",
    "    \n",
    "    #request the url\n",
    "    res=requests.get(artist_url)\n",
    "    print(res.status_code)\n",
    "    #1.existing url?\n",
    "    exist=existing_url(res)\n",
    "    print(exist)\n",
    "    #Repeat-Condition\n",
    "    if (exist=='No lyrics') or exist=='Page not exists':\n",
    "        print(f'{artist} is not available. Please enter another artist.')\n",
    "        continue    \n",
    "    \n",
    "    #2.double handling: avoid '()' and '[]' and ignore doubles\n",
    "    title_links=double_handling(res,title_links) #creates a nested list (list of list [[a1,a2],[b1,b2],...])\n",
    "    \n",
    "    #3. check if more than 100 different songs\n",
    "    if len(title_links)<100:\n",
    "        print(f'{artist} has just {len(title_links)} different songs instead 100. Please enter another artist.')\n",
    "        continue\n",
    "    else:\n",
    "        print(f'{artist} has {len(title_links)} different songs. Congrats!')\n",
    "    \n",
    "    #4. download lyrics and save to an individual folder\n",
    "    start=int(input('Insert the # of the FIRST song you want to download'))\n",
    "    end=int(input('Insert the # of the LAST song you want to download'))\n",
    "    print(f'The lyrics of the {end-start} songs of {artist} are going to be saved now.')\n",
    "    newpath = path+'/'+artist+'_test2_data' #for new folder\n",
    "    download_save(newpath,url,title_links,start,end)\n",
    "    \n",
    "    artist_sum+=1"
   ]
  },
  {
   "cell_type": "code",
   "execution_count": 89,
   "metadata": {},
   "outputs": [
    {
     "name": "stdout",
     "output_type": "stream",
     "text": [
      "{'everyboyd', 'my beautiful woman', 'as long as you love me', \"we've got it goin' on\", \"it's christmas time again\", 'shape of my heart', \"it's gotta be you\", 'you can let go', 'nobody else', \"darlin'\", 'new love', 'all i have to give, pt. 2', 'ok', 'got to get it', 'rebel', \"that's the way i like it\", \"she's a dream\", 'time', \"quit playin' games\", 'love somebody', 'i need you tonight / heaven in your eyes', 'aurora', 'make believe', 'pda', 'set adrift on memory bliss', \"what's going on\", 'shape of the heart', 'the one', 'how did i fall in love with you', \"let's make a toast to our love\", 'matches', 'on without you', 'try', 'quit playing games', 'where can we go from here', \"you're the reason\", 'the way it is', \"i'll never brak your heart\", 'lay down beside me', 'let it be me', 'song for the unloved', 'permanent stain', 'no goodbyes', 'sexbomb', 'crawling back to you', 'one phone call', \"movin' on\", 'treat me right', 'shoe me the meaning of being lonely', 'hey, mr, dj', \"don't try this at home\", 'breathe', '10,000 promises', 'cinderella', 'i promise you', 'let me see you squirrel', 'no one else comes close', 'missing you', 'yes i will', 'answer to our life', \"i'll never break your heart\", 'how do i live', 'nowhere to go', 'satellite', 'i want it that way', 'best days', 'passionate', 'somebody that i used to know', 'get down', \"don't gobreaking my heart\", 'if you want it to be good girl', 'roll with it', '10, 000 promises', \"that's what she said\", 'if you knew what i knew', 'last night you saved my life', 'all of your life', 'everyone', 'inconsolable', \"let's have a party\", 'helpless when she smiles', 'madeleine', 'soldier', 'the call', \"i'll never break your hearts\", 'i need you tongiht', \"don't leave me\", 'who do you love', 'said i love you', 'christmas time', \"let's take a lifetime\", 'masquerade', \"don't disturb this groove\", 'not for me', 'in a world like this', 'incomplete', 'the way it was', 'something that i already know', 'do you remember', \"don't wanna lose you now\", 'the answer to our life', 'the perfect fan', 'feels like home', 'boys will be boys', \"don't go breaking my heart\", \"can't fight this feeling\", 'one in a million', 'you wrote the book on love', 'bigger', 'funny face', 'call', 'trouble is', 'never gone', 'hey, mr.dj', 'if you stay', 'all i have to give', 'sick as my secrects', 'any other way', 'one', 'everytime i close my eyes', \"we've got it going on\", 'i still', 'shining star', 'no place', 'bye bye love', 'i wanna be with you', 'shattered', 'just want you to know', \"i'll never find someone like you\", 'downpour', \"tell me that i'm dreaming\", 'in christ alone', 'un-break my heart', \"liftin' me up\", 'my heart stays with you', 'in pieces', 'non puoi lasciarmi cosi', 'close my eyes', \"there's us\", 'undone', 'i need you tonight', 'hologram', 'in your arms', \"it's true\", 'young girls', 'show me the meaning', \"don't want you back\", 'every time i close my eyes', \"we've got it goin on\", '10000 promises', \"show 'em\", 'rush over me', 'by my side', 'anywhere for you', 'panic', 'intro', 'hey mr dj', 'if i knew then', 'show me the meaning of being lonely', 'trust me', 'the best that i can', 'lose it all', 'everybody', 'unsuspecting sunday afternoon', 'chateau', \"ain't nobody\", 'like a child', 'just like you like it', 'team', 'drowning', 'chances', 'get another boyfriend', 'unmistakable', 'helpless', 'climbing the walls', 'over her', 'just to be close to you', 'give me your heart', 'hey, mr. dj', 'larger than life', 'as long as you love them', 'god, your mama, and me', 'i still...', 'this is us', 'fallen angel', \"if i don't have you\", '...baby one more time', \"that's the way\", 'siberia', 'i gotta feeling', 'party shot', 'love knows i love you', 'hey mr. dj', 'i never break your heart', \"i'll be there for you\", 'shout', 'straight through my heart', 'nobody but you', 'i still-', 'poster girl', 'children need a helping hand', 'back to your heart', 'nunca te hare llorar', 'safest place to hide', 'is it just me', 'weird world', 'everything but mine', 'the way i like it', 'more than that', 'spanish eyes', 'what makes you different', 'show me the meaning of beging lonely', 'love will keep you up all night', 'early christmas morning'}\n"
     ]
    },
    {
     "data": {
      "text/plain": [
       "214"
      ]
     },
     "execution_count": 89,
     "metadata": {},
     "output_type": "execute_result"
    }
   ],
   "source": [
    "output = set()\n",
    "for x in title_links:\n",
    "    output.add(x[0])\n",
    "print(output)\n",
    "len(output)"
   ]
  },
  {
   "cell_type": "code",
   "execution_count": null,
   "metadata": {},
   "outputs": [],
   "source": []
  }
 ],
 "metadata": {
  "kernelspec": {
   "display_name": "Python 3",
   "language": "python",
   "name": "python3"
  },
  "language_info": {
   "codemirror_mode": {
    "name": "ipython",
    "version": 3
   },
   "file_extension": ".py",
   "mimetype": "text/x-python",
   "name": "python",
   "nbconvert_exporter": "python",
   "pygments_lexer": "ipython3",
   "version": "3.7.6"
  }
 },
 "nbformat": 4,
 "nbformat_minor": 4
}
